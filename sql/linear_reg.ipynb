{
    "metadata": {
        "kernelspec": {
            "name": "SQL",
            "display_name": "SQL",
            "language": "sql"
        },
        "language_info": {
            "name": "sql",
            "version": ""
        }
    },
    "nbformat_minor": 2,
    "nbformat": 4,
    "cells": [
        {
            "cell_type": "code",
            "source": [
                "SELECT\n",
                "    random() * 100 AS x, \n",
                "    random() * 100 AS y\n",
                "FROM generate_series(1, 10); \n",
                ""
            ],
            "metadata": {
                "azdata_cell_guid": "185c29d2-4e80-4578-bddb-99d630f5cbf7",
                "language": "sql",
                "tags": []
            },
            "outputs": [
                {
                    "output_type": "display_data",
                    "data": {
                        "text/html": "(10 row(s) affected)"
                    },
                    "metadata": {}
                },
                {
                    "output_type": "display_data",
                    "data": {
                        "text/html": "Total execution time: 00:00:00.007"
                    },
                    "metadata": {}
                },
                {
                    "output_type": "execute_result",
                    "metadata": {},
                    "execution_count": 15,
                    "data": {
                        "application/vnd.dataresource+json": {
                            "schema": {
                                "fields": [
                                    {
                                        "name": "x"
                                    },
                                    {
                                        "name": "y"
                                    }
                                ]
                            },
                            "data": [
                                {
                                    "x": "10.85943732312893",
                                    "y": "83.69486114801896"
                                },
                                {
                                    "x": "44.18310350124275",
                                    "y": "37.32856104488733"
                                },
                                {
                                    "x": "27.48444198666229",
                                    "y": "91.74788684034718"
                                },
                                {
                                    "x": "84.28651391776363",
                                    "y": "52.29295193918271"
                                },
                                {
                                    "x": "29.078543640895994",
                                    "y": "25.62468975246448"
                                },
                                {
                                    "x": "11.783617448225382",
                                    "y": "25.110461111562742"
                                },
                                {
                                    "x": "82.68414763722527",
                                    "y": "47.92002793457062"
                                },
                                {
                                    "x": "66.77293163890856",
                                    "y": "68.95303518450646"
                                },
                                {
                                    "x": "46.06408536205699",
                                    "y": "38.611263993036204"
                                },
                                {
                                    "x": "48.89368206186961",
                                    "y": "5.565991992026564"
                                }
                            ]
                        },
                        "text/html": [
                            "<table>",
                            "<tr><th>x</th><th>y</th></tr>",
                            "<tr><td>10.85943732312893</td><td>83.69486114801896</td></tr>",
                            "<tr><td>44.18310350124275</td><td>37.32856104488733</td></tr>",
                            "<tr><td>27.48444198666229</td><td>91.74788684034718</td></tr>",
                            "<tr><td>84.28651391776363</td><td>52.29295193918271</td></tr>",
                            "<tr><td>29.078543640895994</td><td>25.62468975246448</td></tr>",
                            "<tr><td>11.783617448225382</td><td>25.110461111562742</td></tr>",
                            "<tr><td>82.68414763722527</td><td>47.92002793457062</td></tr>",
                            "<tr><td>66.77293163890856</td><td>68.95303518450646</td></tr>",
                            "<tr><td>46.06408536205699</td><td>38.611263993036204</td></tr>",
                            "<tr><td>48.89368206186961</td><td>5.565991992026564</td></tr>",
                            "</table>"
                        ]
                    }
                }
            ],
            "execution_count": 15
        },
        {
            "cell_type": "code",
            "source": [
                "SELECT \n",
                "x,\n",
                "x*normal_rand(3,.1) as y\n",
                "from \n",
                "(Select normal_rand(6, 3) AS x\n",
                "FROM generate_series(1,10)) as b"
            ],
            "metadata": {
                "language": "sql",
                "azdata_cell_guid": "2cab62c4-dad9-4078-a86a-bd879beb994b"
            },
            "outputs": [
                {
                    "output_type": "error",
                    "evalue": "function normal_rand(integer, integer) does not exist",
                    "ename": "",
                    "traceback": []
                },
                {
                    "output_type": "display_data",
                    "data": {
                        "text/html": "Total execution time: 00:00:00.002"
                    },
                    "metadata": {}
                }
            ],
            "execution_count": 16
        },
        {
            "cell_type": "code",
            "source": [
                ""
            ],
            "metadata": {
                "azdata_cell_guid": "91e40dd6-1884-459c-adf0-5100e949a2c5",
                "language": "sql"
            },
            "outputs": [],
            "execution_count": null
        },
        {
            "cell_type": "code",
            "source": [
                ""
            ],
            "metadata": {
                "language": "sql",
                "azdata_cell_guid": "318906b6-0dc0-426b-af88-7658c4bca287"
            },
            "outputs": [],
            "execution_count": null
        }
    ]
}