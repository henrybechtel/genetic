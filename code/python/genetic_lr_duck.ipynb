{
 "cells": [
  {
   "cell_type": "markdown",
   "metadata": {},
   "source": [
    "# Genetic Linear Regression with DuckDB\n",
    "A solution... via evolution!\n",
    "\n",
    "(Testing my skillz. Can I do this in SQL?)"
   ]
  },
  {
   "cell_type": "code",
   "execution_count": 1,
   "metadata": {},
   "outputs": [],
   "source": [
    "import duckdb as db"
   ]
  },
  {
   "cell_type": "code",
   "execution_count": 2,
   "metadata": {},
   "outputs": [
    {
     "data": {
      "text/plain": [
       "┌────────────────────┬──────────────┬──────────────┬────────────────────┐\n",
       "│         x          │   b0_true    │   b1_true    │         y          │\n",
       "│       double       │ decimal(2,1) │ decimal(2,1) │       double       │\n",
       "├────────────────────┼──────────────┼──────────────┼────────────────────┤\n",
       "│  4.953917635584684 │          3.0 │          5.0 │  27.76958817792342 │\n",
       "│  5.310234260717173 │          3.0 │          5.0 │ 29.551171303585864 │\n",
       "│   4.86398646412988 │          3.0 │          5.0 │   27.3199323206494 │\n",
       "│  6.655820379113392 │          3.0 │          5.0 │  36.27910189556696 │\n",
       "│ 1.0336996892600254 │          3.0 │          5.0 │  8.168498446300127 │\n",
       "│  4.289592467691411 │          3.0 │          5.0 │ 24.447962338457053 │\n",
       "│  4.207910905235669 │          3.0 │          5.0 │ 24.039554526178343 │\n",
       "│  7.307505907859962 │          3.0 │          5.0 │  39.53752953929981 │\n",
       "│  5.682932976341023 │          3.0 │          5.0 │ 31.414664881705114 │\n",
       "│ 2.9620652744915454 │          3.0 │          5.0 │ 17.810326372457727 │\n",
       "├────────────────────┴──────────────┴──────────────┴────────────────────┤\n",
       "│ 10 rows                                                     4 columns │\n",
       "└───────────────────────────────────────────────────────────────────────┘"
      ]
     },
     "execution_count": 2,
     "metadata": {},
     "output_type": "execute_result"
    }
   ],
   "source": [
    "observations = db.sql('''\n",
    "WITH RECURSIVE numbers AS (\n",
    "    -- Start with 0\n",
    "    SELECT 0 AS num\n",
    "    UNION ALL\n",
    "    -- Add 1 to num until we reach 9 (10 rows)\n",
    "    SELECT num + 1 FROM numbers WHERE num < 9\n",
    "), \n",
    "parameters AS (\n",
    "    SELECT \n",
    "        5 AS mean, \n",
    "        2.0 AS stddev  \n",
    "),\n",
    "random AS (\n",
    "    SELECT\n",
    "    (sqrt(-2 * ln(random())) * cos(2 * pi() * random()) * stddev + mean) AS norm_rand\n",
    "    FROM numbers, parameters\n",
    ")\n",
    "SELECT \n",
    "    norm_rand as x,\n",
    "    3.0 AS b0_true, \n",
    "    5.0 AS b1_true,\n",
    "    b0_true + b1_true*x AS y\n",
    "FROM random;\n",
    "''') \n",
    "observations"
   ]
  },
  {
   "cell_type": "code",
   "execution_count": null,
   "metadata": {},
   "outputs": [],
   "source": []
  },
  {
   "cell_type": "raw",
   "metadata": {},
   "source": []
  },
  {
   "cell_type": "code",
   "execution_count": 14,
   "metadata": {},
   "outputs": [
    {
     "data": {
      "text/plain": [
       "┌─────────────────────┬─────────────────────┬────────────┐\n",
       "│         b0          │         b1          │ generation │\n",
       "│       double        │       double        │   int32    │\n",
       "├─────────────────────┼─────────────────────┼────────────┤\n",
       "│ -0.8783239684998989 │   8.467420260421932 │          1 │\n",
       "│   9.601055639795959 │  0.2372026862576604 │          1 │\n",
       "│  0.3898862097412348 │   -2.06641492433846 │          1 │\n",
       "│   8.587141833268106 │  -7.939202627167106 │          1 │\n",
       "│  -8.962439172901213 │   4.019545568153262 │          1 │\n",
       "│  -8.358679409138858 │  -7.355219479650259 │          1 │\n",
       "│   8.263101475313306 │ -6.8068417347967625 │          1 │\n",
       "│ -3.4639610769227147 │ -2.8209835197776556 │          1 │\n",
       "│  -7.126688379794359 │  -7.238796618767083 │          1 │\n",
       "│ -2.8277820348739624 │    9.47117280215025 │          1 │\n",
       "├─────────────────────┴─────────────────────┴────────────┤\n",
       "│ 10 rows                                      3 columns │\n",
       "└────────────────────────────────────────────────────────┘"
      ]
     },
     "execution_count": 14,
     "metadata": {},
     "output_type": "execute_result"
    }
   ],
   "source": [
    "betas = db.sql('''\n",
    "WITH RECURSIVE numbers AS (\n",
    "    SELECT 0 AS num\n",
    "    UNION ALL\n",
    "    SELECT num + 1 FROM numbers WHERE num < 9\n",
    "), \n",
    "betas as (\n",
    "SELECT \n",
    "    random()*20 - 10 AS b0,\n",
    "    random()*20 - 10 AS b1\n",
    "    FROM numbers\n",
    "    )\n",
    "SELECT b0, b1, 1 AS generation\n",
    "FROM betas; \n",
    "''') \n",
    "betas"
   ]
  },
  {
   "cell_type": "code",
   "execution_count": 23,
   "metadata": {},
   "outputs": [
    {
     "data": {
      "text/plain": [
       "┌─────────────────────┬─────────────────────┬────────────┬────────────────────┬───────┬────────┐\n",
       "│         b0          │         b1          │ generation │        rmse        │ rank  │ maxgen │\n",
       "│       double        │       double        │   int32    │       double       │ int64 │ int32  │\n",
       "├─────────────────────┼─────────────────────┼────────────┼────────────────────┼───────┼────────┤\n",
       "│ -1.8383916281163692 │    8.29119781497866 │          1 │ 11.763730612432596 │     1 │      1 │\n",
       "│ -1.1223242152482271 │   2.498762747272849 │          1 │ 16.416061604163776 │     2 │      1 │\n",
       "│   7.891862401738763 │ -0.7992114126682281 │          1 │ 24.122727187405637 │     3 │      1 │\n",
       "│ 0.41417579632252455 │ 0.48008312471210957 │          1 │ 24.930193019588348 │     4 │      1 │\n",
       "│   2.784040803089738 │ -3.5660387482494116 │          1 │  42.72625430748721 │     5 │      1 │\n",
       "│  6.2269825814291835 │  -6.202524434775114 │          1 │  52.51209925191693 │     6 │      1 │\n",
       "│    7.19915057066828 │ -7.9881070693954825 │          1 │  60.44452218588301 │     7 │      1 │\n",
       "│ -5.6445676647126675 │  -6.559035526588559 │          1 │    65.724908275581 │     8 │      1 │\n",
       "│  -8.044518413953483 │  -6.169097069650888 │          1 │  66.12264093866382 │     9 │      1 │\n",
       "│  -6.139467870816588 │  -6.783145065419376 │          1 │  67.31683434035088 │    10 │      1 │\n",
       "├─────────────────────┴─────────────────────┴────────────┴────────────────────┴───────┴────────┤\n",
       "│ 10 rows                                                                            6 columns │\n",
       "└──────────────────────────────────────────────────────────────────────────────────────────────┘"
      ]
     },
     "execution_count": 23,
     "metadata": {},
     "output_type": "execute_result"
    }
   ],
   "source": [
    "db.sql('''\n",
    "WITH \n",
    "max_gen as \n",
    "     (SELECT MAX(generation) AS generation FROM betas),\n",
    "last_betas as (\n",
    "    select * from betas\n",
    "    where generation = (SELECT generation FROM max_gen)\n",
    " ),\n",
    " \n",
    "cp AS\n",
    "    (SELECT o.*,\n",
    "            b.b0,\n",
    "            b.b1,\n",
    "            b.generation,\n",
    "            ((b.b0 + b.b1 * o.x) - o.y) ^ 2 AS sq_error\n",
    "     FROM observations as o\n",
    "     CROSS JOIN last_betas as b),\n",
    "     \n",
    "rmse_calc AS\n",
    "    (SELECT b0, b1, generation, SQRT(AVG(sq_error)) AS rmse\n",
    "     FROM cp\n",
    "     GROUP BY b0, b1, generation),\n",
    "     \n",
    "ranked as\n",
    "    (SELECT *, rank() over(partition by generation order by rmse) as rank\n",
    "     FROM rmse_calc )\n",
    "     \n",
    "SELECT *, (SELECT generation FROM max_gen) as maxgen\n",
    "FROM ranked;\n",
    "''') "
   ]
  },
  {
   "cell_type": "code",
   "execution_count": 22,
   "metadata": {},
   "outputs": [
    {
     "data": {
      "text/plain": [
       "┌─────────────────────┬─────────────────────┬────────────┬────────────────────┬───────┬────────┐\n",
       "│         b0          │         b1          │ generation │        rmse        │ rank  │ maxgen │\n",
       "│       double        │       double        │   int32    │       double       │ int64 │ int32  │\n",
       "├─────────────────────┼─────────────────────┼────────────┼────────────────────┼───────┼────────┤\n",
       "│ -2.8421303629875183 │   7.103150780312717 │          1 │  7.123641660035427 │     1 │      1 │\n",
       "│    3.19977268576622 │  3.3761978335678577 │          1 │  9.121425419936074 │     2 │      1 │\n",
       "│  -5.655125980265439 │   8.512225593440235 │          1 │  12.71705080005476 │     3 │      1 │\n",
       "│ -0.7297514192759991 │   3.382140463218093 │          1 │ 12.766491425465453 │     4 │      1 │\n",
       "│   1.178553937934339 │    9.20008392073214 │          1 │  22.41300853352538 │     5 │      1 │\n",
       "│  3.3771767700091004 │  0.6373874330893159 │          1 │ 24.651428471320123 │     6 │      1 │\n",
       "│  -1.746843452565372 │  1.3189322594553232 │          1 │   25.4991465350952 │     7 │      1 │\n",
       "│  -6.250497587025166 │  -4.815894230268896 │          1 │  64.79772962611601 │     8 │      1 │\n",
       "│  -8.195446454919875 │ -4.5357557805255055 │          1 │     65.01944054662 │     9 │      1 │\n",
       "│  0.8364881202578545 │  -7.988724876195192 │          1 │  76.39936680262352 │    10 │      1 │\n",
       "├─────────────────────┴─────────────────────┴────────────┴────────────────────┴───────┴────────┤\n",
       "│ 10 rows                                                                            6 columns │\n",
       "└──────────────────────────────────────────────────────────────────────────────────────────────┘"
      ]
     },
     "execution_count": 22,
     "metadata": {},
     "output_type": "execute_result"
    }
   ],
   "source": [
    "db.sql('''\n",
    "select * from tabl\n",
    "''') "
   ]
  },
  {
   "cell_type": "code",
   "execution_count": null,
   "metadata": {},
   "outputs": [],
   "source": [
    "observations = db.sql('''\n",
    "\n",
    "''') "
   ]
  },
  {
   "cell_type": "code",
   "execution_count": null,
   "metadata": {},
   "outputs": [],
   "source": []
  },
  {
   "cell_type": "code",
   "execution_count": null,
   "metadata": {},
   "outputs": [],
   "source": []
  },
  {
   "cell_type": "code",
   "execution_count": null,
   "metadata": {},
   "outputs": [],
   "source": []
  },
  {
   "cell_type": "code",
   "execution_count": null,
   "metadata": {},
   "outputs": [],
   "source": []
  }
 ],
 "metadata": {
  "kernelspec": {
   "display_name": "Python 3 (ipykernel)",
   "language": "python",
   "name": "python3"
  },
  "language_info": {
   "codemirror_mode": {
    "name": "ipython",
    "version": 3
   },
   "file_extension": ".py",
   "mimetype": "text/x-python",
   "name": "python",
   "nbconvert_exporter": "python",
   "pygments_lexer": "ipython3",
   "version": "3.10.15"
  }
 },
 "nbformat": 4,
 "nbformat_minor": 4
}
