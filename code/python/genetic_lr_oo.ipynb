{
 "cells": [
  {
   "cell_type": "markdown",
   "id": "f81a5b73-0496-4ca4-b2c4-bf8b9f02ea40",
   "metadata": {},
   "source": [
    "# Genetic Linear Regression with Numpy\n",
    "A solution... via evolution!"
   ]
  },
  {
   "cell_type": "code",
   "execution_count": 6,
   "id": "5719919a-1fda-483e-96b9-83778e8a0abf",
   "metadata": {},
   "outputs": [],
   "source": [
    "import numpy as np\n",
    "import matplotlib.pyplot as plt"
   ]
  },
  {
   "cell_type": "code",
   "execution_count": 30,
   "id": "21b9d7d2-3735-49f5-ab1a-da39c4a7b132",
   "metadata": {},
   "outputs": [],
   "source": [
    "sample_num = 10\n",
    "beta_true = [0, 1]\n",
    "x_obs = np.random.normal(25, 10, sample_num)\n",
    "y_obs = beta_true[0] + beta_true[1]*x_obs + np.random.normal(0, 5, sample_num)"
   ]
  },
  {
   "cell_type": "code",
   "execution_count": 31,
   "id": "af6007bd-1ba7-4839-818f-26cdd6279820",
   "metadata": {},
   "outputs": [
    {
     "data": {
      "image/png": "[encoded data removed]",
      "text/plain": [
       "<Figure size 640x480 with 1 Axes>"
      ]
     },
     "metadata": {},
     "output_type": "display_data"
    }
   ],
   "source": [
    "plt.scatter(x_obs, y_obs);"
   ]
  },
  {
   "cell_type": "code",
   "execution_count": 27,
   "id": "2ac2bd18-53e9-4996-b834-5013c0dcc295",
   "metadata": {},
   "outputs": [],
   "source": [
    "class Population():\n",
    "    def __init__(self):\n",
    "        self.gen_size = 10\n",
    "        self.betas = np.random.normal(0, 10, (self.gen_size, 2))"
   ]
  },
  {
   "cell_type": "code",
   "execution_count": 28,
   "id": "9c9ee496-7cb5-4dbc-b372-7ca64d1e57d0",
   "metadata": {},
   "outputs": [],
   "source": [
    "pop = Population()"
   ]
  },
  {
   "cell_type": "code",
   "execution_count": 29,
   "id": "87dace6e-4514-42bf-aafc-b356d5374176",
   "metadata": {},
   "outputs": [
    {
     "data": {
      "text/plain": [
       "array([[-15.84609125,   2.38796441],\n",
       "       [  9.63299817,  -3.28211933],\n",
       "       [ -7.32533802,  -5.65104974],\n",
       "       [ -7.42213731,   4.21719322],\n",
       "       [ -2.48518075,   3.6391045 ],\n",
       "       [-12.45977316,  -0.11245875],\n",
       "       [  3.83055887,  22.07854875],\n",
       "       [ -3.91046849,   0.10405018],\n",
       "       [ -5.55748956,   4.16354582],\n",
       "       [-38.09428794,  15.44904106]])"
      ]
     },
     "execution_count": 29,
     "metadata": {},
     "output_type": "execute_result"
    }
   ],
   "source": [
    "pop.betas"
   ]
  },
  {
   "cell_type": "code",
   "execution_count": null,
   "id": "72dfd514-7b6e-46f7-b4ee-afdac24e2345",
   "metadata": {},
   "outputs": [],
   "source": []
  },
  {
   "cell_type": "code",
   "execution_count": null,
   "id": "f3af996a-1e76-4358-aefb-8b50fb996122",
   "metadata": {},
   "outputs": [],
   "source": []
  }
 ],
 "metadata": {
  "kernelspec": {
   "display_name": "Python 3 (ipykernel)",
   "language": "python",
   "name": "python3"
  },
  "language_info": {
   "codemirror_mode": {
    "name": "ipython",
    "version": 3
   },
   "file_extension": ".py",
   "mimetype": "text/x-python",
   "name": "python",
   "nbconvert_exporter": "python",
   "pygments_lexer": "ipython3",
   "version": "3.10.15"
  }
 },
 "nbformat": 4,
 "nbformat_minor": 5
}
