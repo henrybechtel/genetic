{
 "cells": [
  {
   "cell_type": "markdown",
   "id": "f81a5b73-0496-4ca4-b2c4-bf8b9f02ea40",
   "metadata": {},
   "source": [
    "# Genetic Linear Regression with Numpy\n",
    "A solution... via evolution!"
   ]
  },
  {
   "cell_type": "code",
   "execution_count": 1,
   "id": "5719919a-1fda-483e-96b9-83778e8a0abf",
   "metadata": {},
   "outputs": [],
   "source": [
    "import numpy as np\n",
    "import matplotlib.pyplot as plt\n",
    "from genetic import GeneticLinearRegressor"
   ]
  },
  {
   "cell_type": "code",
   "execution_count": 10,
   "id": "21b9d7d2-3735-49f5-ab1a-da39c4a7b132",
   "metadata": {},
   "outputs": [],
   "source": [
    "sample_num = 10\n",
    "beta_true = [10, 3]\n",
    "x_obs = np.random.normal(25, 10, sample_num)\n",
    "y_obs = beta_true[0] + beta_true[1]*x_obs + np.random.normal(0, 5, sample_num)"
   ]
  },
  {
   "cell_type": "code",
   "execution_count": 11,
   "id": "af6007bd-1ba7-4839-818f-26cdd6279820",
   "metadata": {},
   "outputs": [
    {
     "data": {
      "image/png": "[encoded data removed]",
      "text/plain": [
       "<Figure size 640x480 with 1 Axes>"
      ]
     },
     "metadata": {},
     "output_type": "display_data"
    }
   ],
   "source": [
    "plt.scatter(x_obs, y_obs);"
   ]
  },
  {
   "cell_type": "code",
   "execution_count": 12,
   "id": "9c9ee496-7cb5-4dbc-b372-7ca64d1e57d0",
   "metadata": {},
   "outputs": [],
   "source": [
    "glr = GeneticLinearRegressor()"
   ]
  },
  {
   "cell_type": "code",
   "execution_count": 13,
   "id": "eb75d123-b645-4539-87c2-5e5c7c795be4",
   "metadata": {},
   "outputs": [
    {
     "data": {
      "text/plain": [
       "10"
      ]
     },
     "execution_count": 13,
     "metadata": {},
     "output_type": "execute_result"
    }
   ],
   "source": [
    "glr.gen_size"
   ]
  },
  {
   "cell_type": "code",
   "execution_count": 14,
   "id": "87dace6e-4514-42bf-aafc-b356d5374176",
   "metadata": {},
   "outputs": [
    {
     "data": {
      "text/plain": [
       "array([[  0.47197438,  -7.19914613],\n",
       "       [  5.22805616,  -5.49878362],\n",
       "       [ 18.35144465,  -6.69947567],\n",
       "       [ -4.23890881, -22.16169944],\n",
       "       [-15.26201373,   8.79690166],\n",
       "       [ 11.72387606,   5.69138174],\n",
       "       [-12.23942021,   6.74245402],\n",
       "       [  3.979507  ,  10.70642838],\n",
       "       [  5.83083602,   3.53116636],\n",
       "       [ -1.94692054, -14.8884767 ]])"
      ]
     },
     "execution_count": 14,
     "metadata": {},
     "output_type": "execute_result"
    }
   ],
   "source": [
    "glr.betas"
   ]
  },
  {
   "cell_type": "code",
   "execution_count": 15,
   "id": "951fbf90-616d-48f8-a291-b40af169a528",
   "metadata": {},
   "outputs": [
    {
     "name": "stdout",
     "output_type": "stream",
     "text": [
      "Generation: 0\n",
      "survivors:\n",
      " [[ 5.83083602  3.53116636 10.20472518]\n",
      " [11.72387606  5.69138174 68.30726238]]\n",
      "next betas: \n",
      " [[4.59659549 4.70232064]\n",
      " [5.75979481 3.33236798]\n",
      " [5.85769864 3.71230065]\n",
      " [6.19611153 3.23745518]\n",
      " [6.15840552 2.8024631 ]\n",
      " [5.07023159 5.21344611]\n",
      " [4.36951052 3.93087674]\n",
      " [6.18956281 3.11808639]\n",
      " [5.71927808 3.63810627]\n",
      " [6.23783617 4.4016034 ]]\n",
      "\n",
      "\n",
      "Generation: 1\n",
      "survivors:\n",
      " [[6.18956281 3.11808639 4.07225   ]\n",
      " [6.19611153 3.23745518 4.74289879]]\n",
      "next betas: \n",
      " [[6.5810675  3.634823  ]\n",
      " [4.79098176 2.31861439]\n",
      " [6.75709148 2.5915288 ]\n",
      " [5.2852955  1.92839827]\n",
      " [8.14324396 4.80987171]\n",
      " [5.50782171 2.39040731]\n",
      " [5.67170198 2.7153843 ]\n",
      " [7.28204843 2.31530187]\n",
      " [6.97852028 4.37746166]\n",
      " [8.31777115 4.19158392]]\n",
      "\n",
      "\n",
      "Generation: 2\n",
      "survivors:\n",
      " [[ 5.67170198  2.7153843  11.60290577]\n",
      " [ 6.5810675   3.634823   13.27291303]]\n",
      "next betas: \n",
      " [[4.72186325 1.05395554]\n",
      " [5.86772838 4.0731553 ]\n",
      " [5.09458049 2.19466877]\n",
      " [5.49889758 3.37966694]\n",
      " [3.62555848 3.35819105]\n",
      " [5.56749899 3.37987641]\n",
      " [6.63355134 1.61727388]\n",
      " [4.25251522 1.36048449]\n",
      " [6.66051612 2.76912336]\n",
      " [5.08047141 1.93819682]]\n",
      "\n",
      "\n",
      "Generation: 3\n",
      "survivors:\n",
      " [[3.62555848 3.35819105 5.02779834]\n",
      " [5.49889758 3.37966694 6.67189303]]\n",
      "next betas: \n",
      " [[3.58673418 4.28058885]\n",
      " [5.43245183 5.38675497]\n",
      " [3.24619876 5.68505001]\n",
      " [3.84534538 4.3334225 ]\n",
      " [2.32889315 4.7041842 ]\n",
      " [2.38394164 1.49891699]\n",
      " [4.67512584 4.28253687]\n",
      " [3.87139969 3.80999619]\n",
      " [3.63259492 2.62338851]\n",
      " [4.04006926 0.94303885]]\n",
      "\n",
      "\n",
      "Generation: 4\n",
      "survivors:\n",
      " [[ 3.87139969  3.80999619 14.96599   ]\n",
      " [ 3.63259492  2.62338851 15.57615528]]\n",
      "next betas: \n",
      " [[4.71146296 3.84066954]\n",
      " [4.66457014 1.91948659]\n",
      " [3.96372961 3.63743539]\n",
      " [2.03232273 5.41403144]\n",
      " [3.83876443 2.57797885]\n",
      " [3.5585181  4.04777075]\n",
      " [3.99960257 2.85331082]\n",
      " [3.72639006 4.93989097]\n",
      " [2.96770868 5.06265211]\n",
      " [4.00286183 1.04631366]]\n",
      "\n",
      "\n"
     ]
    }
   ],
   "source": [
    "glr.fit(x_obs, y_obs)"
   ]
  }
 ],
 "metadata": {
  "kernelspec": {
   "display_name": "Python 3 (ipykernel)",
   "language": "python",
   "name": "python3"
  },
  "language_info": {
   "codemirror_mode": {
    "name": "ipython",
    "version": 3
   },
   "file_extension": ".py",
   "mimetype": "text/x-python",
   "name": "python",
   "nbconvert_exporter": "python",
   "pygments_lexer": "ipython3",
   "version": "3.10.15"
  }
 },
 "nbformat": 4,
 "nbformat_minor": 5
}
