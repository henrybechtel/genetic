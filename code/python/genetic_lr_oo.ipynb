{
 "cells": [
  {
   "cell_type": "markdown",
   "id": "f81a5b73-0496-4ca4-b2c4-bf8b9f02ea40",
   "metadata": {},
   "source": [
    "# Genetic Linear Regression with Numpy\n",
    "### A solution... via evolution!\n",
    "\n",
    "Here I am exploring the application of certain priciples of evolution by natural selection to find optimal coefficients for a linear regression. "
   ]
  },
  {
   "cell_type": "code",
   "execution_count": 66,
   "id": "5719919a-1fda-483e-96b9-83778e8a0abf",
   "metadata": {},
   "outputs": [],
   "source": [
    "import numpy as np\n",
    "import matplotlib.pyplot as plt\n",
    "from genetic import GeneticLinearRegressor"
   ]
  },
  {
   "cell_type": "code",
   "execution_count": 67,
   "id": "21b9d7d2-3735-49f5-ab1a-da39c4a7b132",
   "metadata": {},
   "outputs": [],
   "source": [
    "sample_num = 10\n",
    "beta_true = [10, 3]\n",
    "x_obs = np.random.normal(25, 10, sample_num)\n",
    "y_obs = beta_true[0] + beta_true[1]*x_obs + np.random.normal(0, 5, sample_num)"
   ]
  },
  {
   "cell_type": "code",
   "execution_count": 68,
   "id": "af6007bd-1ba7-4839-818f-26cdd6279820",
   "metadata": {},
   "outputs": [
    {
     "data": {
      "image/png": "[encoded data removed]",
      "text/plain": [
       "<Figure size 640x480 with 1 Axes>"
      ]
     },
     "metadata": {},
     "output_type": "display_data"
    }
   ],
   "source": [
    "plt.scatter(x_obs, y_obs);"
   ]
  },
  {
   "cell_type": "code",
   "execution_count": 69,
   "id": "9c9ee496-7cb5-4dbc-b372-7ca64d1e57d0",
   "metadata": {},
   "outputs": [],
   "source": [
    "glr = GeneticLinearRegressor(gen_size=20)"
   ]
  },
  {
   "cell_type": "code",
   "execution_count": 70,
   "id": "eb75d123-b645-4539-87c2-5e5c7c795be4",
   "metadata": {},
   "outputs": [
    {
     "data": {
      "text/plain": [
       "20"
      ]
     },
     "execution_count": 70,
     "metadata": {},
     "output_type": "execute_result"
    }
   ],
   "source": [
    "glr.gen_size"
   ]
  },
  {
   "cell_type": "code",
   "execution_count": 71,
   "id": "87dace6e-4514-42bf-aafc-b356d5374176",
   "metadata": {},
   "outputs": [
    {
     "data": {
      "text/plain": [
       "array([[-19.70008959,  22.29105394],\n",
       "       [  6.79511959,   5.80406263],\n",
       "       [ -7.52172217,  11.30973266],\n",
       "       [ -1.99850075, -25.32396437],\n",
       "       [-10.03360293,  17.30689198],\n",
       "       [-15.41949978,   5.96732886],\n",
       "       [ -7.98068333,   0.52283418],\n",
       "       [-13.45578352, -11.8042196 ],\n",
       "       [  2.39385809, -22.44611589],\n",
       "       [ -5.5722089 ,  -2.08570936],\n",
       "       [ -7.56112936,  -9.07452868],\n",
       "       [  7.75010749, -25.37935662],\n",
       "       [ 12.05886006,  -3.61224968],\n",
       "       [  6.41874581,  -1.68921409],\n",
       "       [-17.13016475,  13.42179391],\n",
       "       [  7.24501607,   5.885601  ],\n",
       "       [-20.26991861,  -5.87612092],\n",
       "       [  3.03566262,  15.68145987],\n",
       "       [ -9.27529164,  15.92030735],\n",
       "       [ -4.9024506 ,  -3.44727404]])"
      ]
     },
     "execution_count": 71,
     "metadata": {},
     "output_type": "execute_result"
    }
   ],
   "source": [
    "glr.betas"
   ]
  },
  {
   "cell_type": "code",
   "execution_count": 72,
   "id": "951fbf90-616d-48f8-a291-b40af169a528",
   "metadata": {},
   "outputs": [
    {
     "name": "stdout",
     "output_type": "stream",
     "text": [
      "Generation: 0\n",
      "survivors:\n",
      " [[-15.41949978   5.96732886  57.4823294 ]\n",
      " [  6.79511959   5.80406263  72.7125826 ]\n",
      " [  7.24501607   5.885601    75.35185333]\n",
      " [ -7.98068333   0.52283418  85.4984879 ]]\n",
      "next betas: \n",
      " [[-16.42294493   7.28271898]\n",
      " [  6.64790738   6.35022669]\n",
      " [-16.3300575    6.6823338 ]\n",
      " [-14.68548505   5.5584341 ]\n",
      " [-15.08045195   7.97936023]\n",
      " [  4.500769     6.43413697]\n",
      " [  5.22179171   4.61127068]\n",
      " [  7.10377663   5.77385191]\n",
      " [-15.41998588   6.22252935]\n",
      " [-16.01646134   6.4647398 ]]\n",
      "\n",
      "\n",
      "Generation: 1\n",
      "survivors:\n",
      " [[-15.28551009   4.98247614  31.35073654]\n",
      " [  8.4650614    4.42441022  36.60341107]\n",
      " [  5.22179171   4.61127068  38.73008052]\n",
      " [-15.99413684   5.44536691  43.00815665]]\n",
      "next betas: \n",
      " [[  4.20093302   2.60614467]\n",
      " [  6.69902186   6.63629671]\n",
      " [  6.86834206   3.16422729]\n",
      " [  8.08032541   6.4469316 ]\n",
      " [-15.30401727   5.2518113 ]\n",
      " [-14.54909548   3.37636559]\n",
      " [-15.33634963   6.96556869]\n",
      " [-15.29562507   4.91292063]\n",
      " [  7.80182309   3.95606049]\n",
      " [-13.7266752    4.13419833]]\n",
      "\n",
      "\n",
      "Generation: 2\n",
      "survivors:\n",
      " [[  6.86834206   3.16422729   2.89710716]\n",
      " [-13.7266752    4.13419833  12.0030687 ]\n",
      " [-15.53357984   4.25442161  13.62445821]\n",
      " [-16.66123855   4.33646372  14.79614375]]\n",
      "next betas: \n",
      " [[-16.27149845   3.05160561]\n",
      " [-13.337591     3.17778706]\n",
      " [  7.41786485   3.23770757]\n",
      " [-12.46478211   3.64400459]\n",
      " [  7.12298282   3.64912789]\n",
      " [  4.88723569   2.41244585]\n",
      " [-13.23450905   3.40003298]\n",
      " [-14.81579818   4.29737063]\n",
      " [  8.91728599   2.63806986]\n",
      " [-14.37994339   2.43576359]]\n",
      "\n",
      "\n",
      "Generation: 3\n",
      "survivors:\n",
      " [[  7.55970836   3.1386417    2.87798041]\n",
      " [  7.41786485   3.23770757   4.19784451]\n",
      " [  7.68919437   2.84107049   8.00521796]\n",
      " [-12.46478211   3.64400459   9.26724212]]\n",
      "next betas: \n",
      " [[8.46152671 3.61759865]\n",
      " [8.82324839 2.8522659 ]\n",
      " [6.81581755 3.69319166]\n",
      " [5.75452972 0.70975769]\n",
      " [8.7370535  3.97700855]\n",
      " [6.88271039 3.35387026]\n",
      " [7.26697169 2.68694693]\n",
      " [8.0495524  3.97337596]\n",
      " [6.94832331 3.25990576]\n",
      " [7.04643881 2.97597704]]\n",
      "\n",
      "\n",
      "Generation: 4\n",
      "survivors:\n",
      " [[8.67429681 3.065461   2.90861505]\n",
      " [6.94832331 3.25990576 4.33241771]\n",
      " [7.04643881 2.97597704 5.22613026]\n",
      " [6.88271039 3.35387026 6.44182158]]\n",
      "next betas: \n",
      " [[9.53181631 3.51812261]\n",
      " [6.04021573 3.49457282]\n",
      " [7.91244351 2.66148368]\n",
      " [5.02157824 4.06917848]\n",
      " [5.63572573 1.97694662]\n",
      " [6.87078548 2.81831263]\n",
      " [7.55712572 4.87077501]\n",
      " [8.07501095 2.56076067]\n",
      " [8.25368664 3.09337141]\n",
      " [6.89904431 3.16633978]]\n",
      "\n",
      "\n"
     ]
    }
   ],
   "source": [
    "glr.fit(x_obs, y_obs)"
   ]
  },
  {
   "cell_type": "code",
   "execution_count": 65,
   "id": "177a9759-fbb2-4925-96bd-ccd813e16a5b",
   "metadata": {},
   "outputs": [
    {
     "data": {
      "text/plain": [
       "np.float64(3.2829034674702884)"
      ]
     },
     "execution_count": 65,
     "metadata": {},
     "output_type": "execute_result"
    }
   ],
   "source": [
    "# knowing the true coefficients, this would be the lowet RMSE we could expect\n",
    "glr.rmse_fitness(beta_true)"
   ]
  }
 ],
 "metadata": {
  "kernelspec": {
   "display_name": "Python 3 (ipykernel)",
   "language": "python",
   "name": "python3"
  },
  "language_info": {
   "codemirror_mode": {
    "name": "ipython",
    "version": 3
   },
   "file_extension": ".py",
   "mimetype": "text/x-python",
   "name": "python",
   "nbconvert_exporter": "python",
   "pygments_lexer": "ipython3",
   "version": "3.10.15"
  }
 },
 "nbformat": 4,
 "nbformat_minor": 5
}
