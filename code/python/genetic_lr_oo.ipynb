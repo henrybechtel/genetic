{
 "cells": [
  {
   "cell_type": "markdown",
   "id": "f81a5b73-0496-4ca4-b2c4-bf8b9f02ea40",
   "metadata": {},
   "source": [
    "# Genetic Linear Regression with Numpy\n",
    "### A solution... via evolution!\n",
    "\n",
    "Here I am exploring the application of certain priciples of evolution by natural selection to find optimal coefficients for a linear regression. "
   ]
  },
  {
   "cell_type": "code",
   "execution_count": 66,
   "id": "5719919a-1fda-483e-96b9-83778e8a0abf",
   "metadata": {},
   "outputs": [],
   "source": [
    "import numpy as np\n",
    "import matplotlib.pyplot as plt\n",
    "from genetic import GeneticLinearRegressor"
   ]
  },
  {
   "cell_type": "code",
   "execution_count": 102,
   "id": "21b9d7d2-3735-49f5-ab1a-da39c4a7b132",
   "metadata": {},
   "outputs": [],
   "source": [
    "sample_num = 10\n",
    "beta_true = [10, 3]\n",
    "x_obs = np.random.normal(25, 10, sample_num)\n",
    "noise = np.random.normal(0, 1, sample_num)\n",
    "y_obs = beta_true[0] + beta_true[1]*x_obs + noise"
   ]
  },
  {
   "cell_type": "code",
   "execution_count": 103,
   "id": "af6007bd-1ba7-4839-818f-26cdd6279820",
   "metadata": {},
   "outputs": [
    {
     "data": {
      "image/png": "[encoded data removed]",
      "text/plain": [
       "<Figure size 640x480 with 1 Axes>"
      ]
     },
     "metadata": {},
     "output_type": "display_data"
    }
   ],
   "source": [
    "plt.scatter(x_obs, y_obs);"
   ]
  },
  {
   "cell_type": "code",
   "execution_count": 104,
   "id": "9c9ee496-7cb5-4dbc-b372-7ca64d1e57d0",
   "metadata": {},
   "outputs": [],
   "source": [
    "glr = GeneticLinearRegressor(gen_size=20)"
   ]
  },
  {
   "cell_type": "code",
   "execution_count": 105,
   "id": "eb75d123-b645-4539-87c2-5e5c7c795be4",
   "metadata": {},
   "outputs": [
    {
     "data": {
      "text/plain": [
       "20"
      ]
     },
     "execution_count": 105,
     "metadata": {},
     "output_type": "execute_result"
    }
   ],
   "source": [
    "glr.gen_size"
   ]
  },
  {
   "cell_type": "code",
   "execution_count": 106,
   "id": "87dace6e-4514-42bf-aafc-b356d5374176",
   "metadata": {},
   "outputs": [
    {
     "data": {
      "text/plain": [
       "array([[-8.01147191e+00,  5.03849676e+00],\n",
       "       [-2.96673599e+00, -3.08735962e+00],\n",
       "       [ 1.00570536e-01, -8.33885398e+00],\n",
       "       [-4.79998950e+00,  1.96993878e+01],\n",
       "       [ 1.78786243e+00, -1.23373352e+01],\n",
       "       [-1.58575369e-02,  6.74682419e+00],\n",
       "       [-9.68886786e+00, -1.24227200e-01],\n",
       "       [-1.61027143e+01, -1.10223507e+01],\n",
       "       [ 4.68530742e+00, -2.66918763e+00],\n",
       "       [ 9.12409039e+00,  1.77166032e+00],\n",
       "       [ 1.93712065e+01, -3.82651678e+00],\n",
       "       [-1.00934382e+01, -7.63117490e+00],\n",
       "       [ 7.78432382e+00, -3.54922261e+00],\n",
       "       [-7.56975674e+00,  1.40298129e+00],\n",
       "       [-7.21451962e+00, -3.57837578e+00],\n",
       "       [-2.17314321e+01,  9.38145148e+00],\n",
       "       [-7.08820005e+00,  1.74009903e-01],\n",
       "       [ 2.07291467e+01, -2.14898077e+00],\n",
       "       [ 8.86822403e+00, -9.57854034e-01],\n",
       "       [ 7.01217893e+00,  1.51286347e+01]])"
      ]
     },
     "execution_count": 106,
     "metadata": {},
     "output_type": "execute_result"
    }
   ],
   "source": [
    "glr.betas"
   ]
  },
  {
   "cell_type": "code",
   "execution_count": 107,
   "id": "951fbf90-616d-48f8-a291-b40af169a528",
   "metadata": {},
   "outputs": [
    {
     "name": "stdout",
     "output_type": "stream",
     "text": [
      "Generation: 0\n",
      "survivors:\n",
      " [[ 9.12409039  1.77166032 32.69264637]\n",
      " [-8.01147191  5.03849676 38.21383974]\n",
      " [-7.56975674  1.40298129 58.21201735]\n",
      " [-7.08820005  0.1740099  90.01863162]]\n",
      "next betas: \n",
      " [[-7.46962386  1.94996839]\n",
      " [ 6.90167172  1.73687088]\n",
      " [-9.04490277  6.02673298]\n",
      " [ 7.87427444  1.83544503]\n",
      " [ 9.55425805  1.79342925]\n",
      " [10.23262093  0.29455426]\n",
      " [-9.28266012  4.99432673]\n",
      " [-8.10584788  5.02618596]\n",
      " [ 8.71279696  1.11982406]\n",
      " [ 9.48068253  3.24094875]]\n",
      "\n",
      "\n",
      "Generation: 1\n",
      "survivors:\n",
      " [[ 9.48068253  3.24094875  6.39953134]\n",
      " [-9.60098592  3.83553493  8.62947363]\n",
      " [ 9.55425805  1.79342925 31.72064337]\n",
      " [ 7.87427444  1.83544503 32.17301952]]\n",
      "next betas: \n",
      " [[ 10.49593985   2.62742395]\n",
      " [  8.57606553   3.71881147]\n",
      " [  8.33060734   5.30162968]\n",
      " [ -8.77187002   0.80746021]\n",
      " [  9.65557689   2.03476841]\n",
      " [ -8.9208951    4.39209043]\n",
      " [ -8.29010787   3.98685431]\n",
      " [-11.23885603   3.0271999 ]\n",
      " [-10.1537058    4.03746865]\n",
      " [ 10.13110523   2.69022378]]\n",
      "\n",
      "\n",
      "Generation: 2\n",
      "survivors:\n",
      " [[12.29776352  2.78628536  3.20599892]\n",
      " [ 8.67689701  2.81304019  5.68570039]\n",
      " [10.13110523  2.69022378  7.56082874]\n",
      " [ 9.37849657  2.68524807  8.38516838]]\n",
      "next betas: \n",
      " [[ 7.99596826  3.76931675]\n",
      " [12.60449294  0.60885241]\n",
      " [ 7.07414912  3.0091063 ]\n",
      " [10.96181838  2.27020101]\n",
      " [ 9.53860008  4.77883301]\n",
      " [ 8.83727596  1.75802271]\n",
      " [ 8.13406379  2.89698761]\n",
      " [12.08662106  2.56494035]\n",
      " [10.22836682  3.23402372]\n",
      " [11.28115881  3.99843702]]\n",
      "\n",
      "\n",
      "Generation: 3\n",
      "survivors:\n",
      " [[11.5752314   2.89966071  1.11539529]\n",
      " [ 7.07414912  3.0091063   2.26911979]\n",
      " [ 9.70690054  2.89423582  2.60840446]\n",
      " [11.0049211   2.82010026  3.38641211]]\n",
      "next betas: \n",
      " [[ 6.2529411   2.77374201]\n",
      " [ 9.17097735  3.39653126]\n",
      " [ 9.2198608   3.00107983]\n",
      " [13.14477119  2.86820515]\n",
      " [11.84920057  3.22551559]\n",
      " [10.9585314   0.92027919]\n",
      " [ 6.03534765  3.30573143]\n",
      " [ 6.46092307  2.30556667]\n",
      " [ 9.31369775  2.75684137]\n",
      " [ 9.18732437  1.82800715]]\n",
      "\n",
      "\n",
      "Generation: 4\n",
      "survivors:\n",
      " [[ 9.2198608   3.00107983  0.59358889]\n",
      " [13.14477119  2.86820515  1.40874583]\n",
      " [ 9.43011173  3.08429827  2.26585505]\n",
      " [ 6.03534765  3.30573143  5.12840545]]\n",
      "next betas: \n",
      " [[14.03597655  3.44410531]\n",
      " [13.93405584  1.18389576]\n",
      " [12.96536196  2.65804654]\n",
      " [11.54369827  3.71601331]\n",
      " [13.31932686  1.85459031]\n",
      " [12.7526705   4.03544899]\n",
      " [10.85658608  4.15413115]\n",
      " [10.87762333  0.05559231]\n",
      " [16.29639224  3.17081821]\n",
      " [ 8.05181922  2.91124546]]\n",
      "\n",
      "\n"
     ]
    }
   ],
   "source": [
    "glr.fit(x_obs, y_obs)"
   ]
  },
  {
   "cell_type": "code",
   "execution_count": 108,
   "id": "177a9759-fbb2-4925-96bd-ccd813e16a5b",
   "metadata": {},
   "outputs": [
    {
     "data": {
      "text/plain": [
       "np.float64(0.737403552640077)"
      ]
     },
     "execution_count": 108,
     "metadata": {},
     "output_type": "execute_result"
    }
   ],
   "source": [
    "# knowing the true coefficients, this would be around the lower end of RMSE we would expect\n",
    "glr.rmse_fitness(beta_true)"
   ]
  },
  {
   "cell_type": "code",
   "execution_count": 109,
   "id": "bce6218f-ae2c-4884-8c4b-ccff0440939d",
   "metadata": {},
   "outputs": [
    {
     "data": {
      "text/plain": [
       "array([[14.03597655,  3.44410531],\n",
       "       [13.93405584,  1.18389576],\n",
       "       [12.96536196,  2.65804654],\n",
       "       [11.54369827,  3.71601331],\n",
       "       [13.31932686,  1.85459031],\n",
       "       [12.7526705 ,  4.03544899],\n",
       "       [10.85658608,  4.15413115],\n",
       "       [10.87762333,  0.05559231],\n",
       "       [16.29639224,  3.17081821],\n",
       "       [ 8.05181922,  2.91124546],\n",
       "       [ 9.39530793,  2.35828265],\n",
       "       [ 9.35314279,  3.68302138],\n",
       "       [ 7.88712711,  2.14374838],\n",
       "       [11.44332741,  2.80868534],\n",
       "       [ 8.5023114 ,  3.0757787 ],\n",
       "       [10.11283005,  4.27634351],\n",
       "       [ 9.07314767,  5.29341671],\n",
       "       [ 9.08908617,  4.81575861],\n",
       "       [ 7.11725766,  2.55736764],\n",
       "       [12.92624029,  2.31647326]])"
      ]
     },
     "execution_count": 109,
     "metadata": {},
     "output_type": "execute_result"
    }
   ],
   "source": [
    "glr.betas"
   ]
  }
 ],
 "metadata": {
  "kernelspec": {
   "display_name": "Python 3 (ipykernel)",
   "language": "python",
   "name": "python3"
  },
  "language_info": {
   "codemirror_mode": {
    "name": "ipython",
    "version": 3
   },
   "file_extension": ".py",
   "mimetype": "text/x-python",
   "name": "python",
   "nbconvert_exporter": "python",
   "pygments_lexer": "ipython3",
   "version": "3.10.15"
  }
 },
 "nbformat": 4,
 "nbformat_minor": 5
}
