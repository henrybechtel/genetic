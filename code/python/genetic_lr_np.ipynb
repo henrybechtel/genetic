{
 "cells": [
  {
   "cell_type": "markdown",
   "metadata": {},
   "source": [
    "# Genetic Linear Regression with Numpy\n",
    "A solution... via evolution!"
   ]
  },
  {
   "cell_type": "code",
   "execution_count": 1,
   "metadata": {},
   "outputs": [],
   "source": [
    "import numpy as np\n",
    "import matplotlib.pyplot as plt"
   ]
  },
  {
   "cell_type": "code",
   "execution_count": 2,
   "metadata": {},
   "outputs": [],
   "source": [
    "sample_num = 10\n",
    "beta_true = [0, 1]\n",
    "x_obs = np.random.normal(25, 10, sample_num)\n",
    "y_obs = beta_true[0] + beta_true[1]*x_obs + np.random.normal(x_obs, 2, sample_num)"
   ]
  },
  {
   "cell_type": "code",
   "execution_count": 3,
   "metadata": {},
   "outputs": [
    {
     "data": {
      "image/png": "[encoded data removed]",
      "text/plain": [
       "<Figure size 640x480 with 1 Axes>"
      ]
     },
     "metadata": {},
     "output_type": "display_data"
    }
   ],
   "source": [
    "plt.scatter(x_obs, y_obs);"
   ]
  },
  {
   "cell_type": "code",
   "execution_count": 4,
   "metadata": {},
   "outputs": [],
   "source": [
    "def rmse_fitness(beta):\n",
    "    y_hat = beta[0] + x_obs*beta[1]\n",
    "    rmse = np.sqrt(np.mean((y_hat - y_obs)**2))\n",
    "    return rmse"
   ]
  },
  {
   "cell_type": "code",
   "execution_count": 5,
   "metadata": {},
   "outputs": [],
   "source": [
    "def rank(betas, rmse_fitness):\n",
    "    scored = np.column_stack((betas, np.apply_along_axis(rmse_fitness, axis=1, arr=betas))) \n",
    "    ranked = scored[scored[:, 2].argsort()]\n",
    "    return ranked"
   ]
  },
  {
   "cell_type": "code",
   "execution_count": 6,
   "metadata": {},
   "outputs": [],
   "source": [
    "def select(ranked, frac):\n",
    "    top_num = int(frac*ranked.shape[0])\n",
    "    survivors = ranked[:top_num]\n",
    "    return survivors"
   ]
  },
  {
   "cell_type": "code",
   "execution_count": 7,
   "metadata": {},
   "outputs": [],
   "source": [
    "def mate(survivors, gen_size):    \n",
    "    rank_weighting = np.linspace(1, 0, survivors.shape[0])\n",
    "    rank_weighting /= rank_weighting.sum()\n",
    "\n",
    "    sampled_b0 = np.random.choice(survivors[:,0], size=gen_size, replace=True, p=rank_weighting)\n",
    "    sampled_b1 = np.random.choice(survivors[:,1], size=gen_size, replace=True, p=rank_weighting)\n",
    "    sampled_betas = np.column_stack((sampled_b0, sampled_b1))\n",
    "\n",
    "    # mutation\n",
    "    mutation = np.random.normal(0, 1, (gen_size, 2))\n",
    "    \n",
    "    # next generation\n",
    "    new_betas = sampled_betas + mutation\n",
    "\n",
    "    return new_betas"
   ]
  },
  {
   "cell_type": "code",
   "execution_count": 8,
   "metadata": {},
   "outputs": [
    {
     "data": {
      "text/plain": [
       "array([ -5.78270198, -12.67995893])"
      ]
     },
     "execution_count": 8,
     "metadata": {},
     "output_type": "execute_result"
    }
   ],
   "source": [
    "beta = np.random.normal(-10,10, 2)\n",
    "beta"
   ]
  },
  {
   "cell_type": "code",
   "execution_count": 9,
   "metadata": {},
   "outputs": [
    {
     "data": {
      "text/plain": [
       "np.float64(62.760407382689046)"
      ]
     },
     "execution_count": 9,
     "metadata": {},
     "output_type": "execute_result"
    }
   ],
   "source": [
    "rmse_fitness([  18.54413807,   3.36654949])"
   ]
  },
  {
   "cell_type": "code",
   "execution_count": 10,
   "metadata": {},
   "outputs": [
    {
     "data": {
      "text/plain": [
       "array([[-11.12559268,  -3.90979977],\n",
       "       [ -0.48278203,   7.25416838],\n",
       "       [ 12.1620009 ,   2.43479091],\n",
       "       [-14.60013454,   6.64198884],\n",
       "       [  1.48915176, -16.78413933],\n",
       "       [ 11.7020796 ,   4.32842258],\n",
       "       [-12.62569567,   8.36560037],\n",
       "       [  7.40320533,   9.03608065],\n",
       "       [ -6.08023047,  -3.55780223],\n",
       "       [ -0.32130286,  -7.02800311]])"
      ]
     },
     "execution_count": 10,
     "metadata": {},
     "output_type": "execute_result"
    }
   ],
   "source": [
    "gen_size = 10\n",
    "betas = np.random.normal(0, 10, (gen_size, 2))\n",
    "betas"
   ]
  },
  {
   "cell_type": "code",
   "execution_count": 11,
   "metadata": {},
   "outputs": [
    {
     "data": {
      "text/plain": [
       "array([[ 1.21620009e+01,  2.43479091e+00,  2.65852528e+01],\n",
       "       [ 1.17020796e+01,  4.32842258e+00,  8.70966453e+01],\n",
       "       [-1.46001345e+01,  6.64198884e+00,  1.36573305e+02],\n",
       "       [-4.82782031e-01,  7.25416838e+00,  1.69897495e+02],\n",
       "       [-6.08023047e+00, -3.55780223e+00,  1.85151481e+02],\n",
       "       [-1.26256957e+01,  8.36560037e+00,  1.94184797e+02],\n",
       "       [-1.11255927e+01, -3.90979977e+00,  2.01394176e+02],\n",
       "       [ 7.40320533e+00,  9.03608065e+00,  2.35113138e+02],\n",
       "       [-3.21302855e-01, -7.02800311e+00,  2.91830681e+02],\n",
       "       [ 1.48915176e+00, -1.67841393e+01,  6.05584191e+02]])"
      ]
     },
     "execution_count": 11,
     "metadata": {},
     "output_type": "execute_result"
    }
   ],
   "source": [
    "ranked = rank(betas, rmse_fitness)\n",
    "ranked"
   ]
  },
  {
   "cell_type": "code",
   "execution_count": 12,
   "metadata": {},
   "outputs": [
    {
     "data": {
      "text/plain": [
       "array([[12.1620009 ,  2.43479091, 26.58525277],\n",
       "       [11.7020796 ,  4.32842258, 87.09664534]])"
      ]
     },
     "execution_count": 12,
     "metadata": {},
     "output_type": "execute_result"
    }
   ],
   "source": [
    "survivors = select(ranked, 0.2)\n",
    "survivors"
   ]
  },
  {
   "cell_type": "code",
   "execution_count": 13,
   "metadata": {},
   "outputs": [
    {
     "data": {
      "text/plain": [
       "array([1., 0.])"
      ]
     },
     "execution_count": 13,
     "metadata": {},
     "output_type": "execute_result"
    }
   ],
   "source": [
    "sampling_weights = np.linspace(1, 0, survivors.shape[0])\n",
    "sampling_weights /= sampling_weights.sum()\n",
    "sampling_weights"
   ]
  },
  {
   "cell_type": "code",
   "execution_count": 14,
   "metadata": {},
   "outputs": [
    {
     "data": {
      "text/plain": [
       "array([13.90677542, 13.29266291, 11.69026064, 15.03191077, 14.30192913])"
      ]
     },
     "execution_count": 14,
     "metadata": {},
     "output_type": "execute_result"
    }
   ],
   "source": [
    "np.random.normal(survivors[0,0], 3, 5)"
   ]
  },
  {
   "cell_type": "code",
   "execution_count": 15,
   "metadata": {},
   "outputs": [
    {
     "name": "stdout",
     "output_type": "stream",
     "text": [
      "Generation: 0\n",
      "survivors:\n",
      " [[ 7.84799373e-01  9.88455055e-01  3.16031515e+01]\n",
      " [-6.39179674e-01  9.48326066e-01  3.42545032e+01]\n",
      " [-6.14357938e-01  9.31025547e-01  3.47891853e+01]\n",
      " [-5.71126748e-01  9.23044934e-01  3.50054938e+01]\n",
      " [-3.20214880e-01  8.95983028e-01  3.56394617e+01]\n",
      " [-8.70594791e-01  8.99892446e-01  3.60389174e+01]\n",
      " [ 3.40086201e-01  7.94970048e-01  3.82703183e+01]\n",
      " [ 7.07519646e-01  7.54077815e-01  3.92401875e+01]\n",
      " [-8.07288995e-01  7.81802399e-01  3.97911501e+01]\n",
      " [-6.57767024e-01  7.61006338e-01  4.03197308e+01]\n",
      " [-3.91922795e-01  6.89306843e-01  4.23810767e+01]\n",
      " [-2.32430914e-01  6.74278916e-01  4.27139878e+01]\n",
      " [-3.45855673e-01  6.77354431e-01  4.27230619e+01]\n",
      " [ 9.25041083e-01  6.17466505e-01  4.34438248e+01]\n",
      " [-2.12815814e-02  6.27087341e-01  4.40363797e+01]\n",
      " [ 5.41541267e-01  6.06698065e-01  4.41574419e+01]\n",
      " [-3.13980449e-01  6.28665292e-01  4.42651497e+01]\n",
      " [ 6.82534499e-01  5.88152561e-01  4.46218386e+01]\n",
      " [ 6.57622859e-01  5.88630904e-01  4.46301620e+01]\n",
      " [ 6.57662060e-01  5.64353258e-01  4.54142256e+01]]\n",
      "next betas: \n",
      " [[ 1.89313159  1.14404502]\n",
      " [ 2.10785707  1.93227153]\n",
      " [-0.45910956  0.98002551]\n",
      " [-0.18172821  1.11484772]\n",
      " [ 0.71015445 -0.92200613]\n",
      " [-0.53743366  1.45372319]\n",
      " [ 1.36702317  1.61259644]\n",
      " [-1.03126047 -0.03310964]\n",
      " [ 0.32276715 -1.83028042]\n",
      " [-1.07514006  0.67135263]]\n",
      "\n",
      "\n",
      "Generation: 1\n",
      "survivors:\n",
      " [[ 2.10785707e+00  1.93227153e+00  2.47221000e+00]\n",
      " [ 1.46782015e+00  1.97697463e+00  2.61182086e+00]\n",
      " [-5.17911723e-03  1.90899012e+00  3.33966355e+00]\n",
      " [-1.92827688e+00  2.16820951e+00  4.53190246e+00]\n",
      " [-2.05013771e+00  2.18969191e+00  5.05040867e+00]\n",
      " [ 9.83595851e-01  1.78634107e+00  5.98909170e+00]\n",
      " [-3.01855485e-01  1.81374659e+00  6.26634105e+00]\n",
      " [-2.60863977e-01  1.79943699e+00  6.66608206e+00]\n",
      " [-2.78428356e-01  1.76791815e+00  7.65238773e+00]\n",
      " [-5.76588249e-01  1.76391536e+00  8.04581624e+00]\n",
      " [ 8.96156218e-01  1.71153724e+00  8.35205461e+00]\n",
      " [ 1.57949785e+00  1.67413787e+00  8.90742412e+00]\n",
      " [-8.50052455e-01  1.71465764e+00  9.84226132e+00]\n",
      " [-1.31059997e+00  1.71920606e+00  1.01255664e+01]\n",
      " [-2.49666370e+00  1.73362238e+00  1.07792581e+01]\n",
      " [ 1.36702317e+00  1.61259644e+00  1.10314197e+01]\n",
      " [-4.53200548e-01  1.65263970e+00  1.14383928e+01]\n",
      " [-1.19722106e+00  1.67101192e+00  1.15482900e+01]\n",
      " [ 1.62722694e+00  1.56879772e+00  1.21801192e+01]\n",
      " [ 1.24689876e+00  1.54915696e+00  1.31538625e+01]]\n",
      "next betas: \n",
      " [[ 2.1200726   1.16946226]\n",
      " [-1.44098017  1.02980959]\n",
      " [ 3.26008892  1.53024495]\n",
      " [-2.62423434  0.91674906]\n",
      " [ 1.15753461  0.33227542]\n",
      " [ 0.84436763  1.74773997]\n",
      " [ 0.14480169  2.50206677]\n",
      " [-1.28161446  2.01105918]\n",
      " [-1.56390376  1.33338291]\n",
      " [-0.80140458 -0.82797494]]\n",
      "\n",
      "\n",
      "Generation: 2\n",
      "survivors:\n",
      " [[-1.28161446  2.01105918  2.15593108]\n",
      " [-0.32492345  1.98952207  2.18440119]\n",
      " [ 0.52622836  1.95784559  2.29326505]\n",
      " [ 1.18728851  1.99287816  2.69281587]\n",
      " [ 2.10645883  1.96520603  2.79680224]\n",
      " [-0.26077298  1.91116111  3.45940416]\n",
      " [ 0.81406353  2.09790198  4.94547004]\n",
      " [ 2.65077298  2.04180279  5.02574283]\n",
      " [ 2.99613878  2.05012703  5.57862181]\n",
      " [ 0.84436763  1.74773997  7.2789006 ]\n",
      " [-1.18883061  2.24391168  7.48697376]\n",
      " [ 1.39538929  2.17870103  7.91620075]\n",
      " [-2.82237838  1.83232238  7.97386174]\n",
      " [-0.1131797   2.22852065  8.02314531]\n",
      " [ 2.8938913   1.64574147  8.63226627]\n",
      " [ 0.37917973  1.68988652  9.49506496]\n",
      " [ 3.00632586  1.57577458 10.71221325]\n",
      " [-0.04966401  1.64988181 11.15185539]\n",
      " [ 3.26008892  1.53024495 11.91708581]\n",
      " [ 1.09854313  2.31833075 12.01314946]]\n",
      "next betas: \n",
      " [[ 1.90394495  2.87511322]\n",
      " [-0.38139852  2.0542854 ]\n",
      " [ 4.03591397  1.15345956]\n",
      " [ 3.07493719  2.98246128]\n",
      " [-0.18361898  2.15956557]\n",
      " [ 2.99159353  2.67228133]\n",
      " [ 1.23130074  3.2557347 ]\n",
      " [ 0.32129135  3.64971644]\n",
      " [-0.56433649  1.94270526]\n",
      " [ 1.0443623   1.75325256]]\n",
      "\n",
      "\n",
      "Generation: 3\n",
      "survivors:\n",
      " [[ 0.78778033  1.96949607  2.29279077]\n",
      " [ 2.24856643  1.92042566  2.47822542]\n",
      " [ 2.21111988  1.96135602  2.79918311]\n",
      " [-0.38139852  2.0542854   2.83531105]\n",
      " [-0.56433649  1.94270526  2.91219614]\n",
      " [-1.96647427  2.11498537  3.07901354]\n",
      " [ 4.64234792  1.89548283  3.26652015]\n",
      " [ 2.32348237  1.85068708  3.29490798]\n",
      " [ 0.03973112  2.06110909  3.29740043]\n",
      " [ 1.73520119  2.01918562  3.63371268]\n",
      " [ 0.97880684  2.05142084  3.81586446]\n",
      " [ 4.22829716  1.94919141  4.01040346]\n",
      " [-1.49748874  1.91746023  4.23050851]\n",
      " [ 0.69160474  1.85538342  4.23625189]\n",
      " [ 0.26195757  1.85913947  4.46212471]\n",
      " [ 2.18169825  1.80352239  4.54795452]\n",
      " [ 0.53191588  2.10723641  4.95830841]\n",
      " [ 0.75792892  1.81335417  5.37777981]\n",
      " [-0.18361898  2.15956557  5.8444408 ]\n",
      " [-1.67380024  2.20806903  5.93818633]]\n",
      "next betas: \n",
      " [[-0.2303464   1.31367139]\n",
      " [ 2.6850896   2.75343322]\n",
      " [ 0.21328007  2.42397779]\n",
      " [ 0.1324256   1.7677112 ]\n",
      " [-0.29204323  0.62648732]\n",
      " [-0.39270535  1.89653562]\n",
      " [ 4.31379795  1.49025591]\n",
      " [ 3.07417972  1.57402673]\n",
      " [-1.64524231  1.97324173]\n",
      " [ 1.39942018  3.94818945]]\n",
      "\n",
      "\n",
      "Generation: 4\n",
      "survivors:\n",
      " [[ 0.6741397   1.9402249   2.42382625]\n",
      " [ 1.02617889  1.93176251  2.44068786]\n",
      " [ 1.10903459  1.98605198  2.5487032 ]\n",
      " [-1.64524231  1.97324173  2.90357545]\n",
      " [ 4.54816682  1.88989108  3.13297503]\n",
      " [ 1.59750639  2.03221062  3.84331838]\n",
      " [ 1.73419462  2.02986042  3.89843642]\n",
      " [ 5.98983038  1.87905402  3.89986073]\n",
      " [-0.39270535  1.89653562  3.93744355]\n",
      " [ 1.98208375  2.02599754  4.00956293]\n",
      " [-0.12890094  2.10583838  4.33035444]\n",
      " [ 3.91533528  1.9813485   4.53140784]\n",
      " [-2.30282669  1.92474172  4.69580843]\n",
      " [ 2.12234437  1.79074427  4.9451522 ]\n",
      " [ 0.00800194  1.83843543  5.26335842]\n",
      " [-1.99939342  2.19951992  5.38692169]\n",
      " [ 1.06560383  1.77280345  6.32550791]\n",
      " [-1.20658658  1.83105826  6.53778292]\n",
      " [ 1.39877173  1.75321786  6.6327493 ]\n",
      " [ 2.38036956  2.12664106  7.26319332]]\n",
      "next betas: \n",
      " [[ 4.89208988  2.89877049]\n",
      " [ 1.55830649  2.16536909]\n",
      " [-1.62239041  1.76042282]\n",
      " [-0.73181762  1.2361329 ]\n",
      " [ 0.24101843  2.98601616]\n",
      " [ 1.46513819  1.64436901]\n",
      " [ 0.56292519  2.46418629]\n",
      " [ 0.45451786  3.29954282]\n",
      " [ 5.2302507   2.04589405]\n",
      " [ 0.42676623  4.20023118]]\n",
      "\n",
      "\n"
     ]
    }
   ],
   "source": [
    "gen_size = 100\n",
    "betas = np.random.uniform(-1, 1, (gen_size, 2))\n",
    "best_fit = []\n",
    "verbose = True\n",
    "for gen in range(5):\n",
    "    if verbose:\n",
    "        print(f\"Generation: {gen}\")\n",
    "    \n",
    "    # ranking\n",
    "    ranked = rank(betas, rmse_fitness)\n",
    "    best_fit.append(ranked[0][2])\n",
    "    \n",
    "    # selection\n",
    "    survivors = select(ranked, 0.2)\n",
    "    \n",
    "    if verbose:\n",
    "        print(f\"survivors:\\n {survivors}\")\n",
    "    \n",
    "    # crossover and mutation -> next generation\n",
    "    betas = mate(survivors, gen_size)\n",
    "\n",
    "    if verbose:\n",
    "        print(f\"next betas: \\n {betas[:10]}\")\n",
    "        print('\\n')\n",
    "\n",
    "# print(betas[:10])\n"
   ]
  },
  {
   "cell_type": "code",
   "execution_count": 16,
   "metadata": {},
   "outputs": [
    {
     "data": {
      "text/plain": [
       "[np.float64(31.603151544600312),\n",
       " np.float64(2.472210003414198),\n",
       " np.float64(2.155931078799534),\n",
       " np.float64(2.29279076605474),\n",
       " np.float64(2.423826250467407)]"
      ]
     },
     "execution_count": 16,
     "metadata": {},
     "output_type": "execute_result"
    }
   ],
   "source": [
    "best_fit"
   ]
  },
  {
   "cell_type": "code",
   "execution_count": null,
   "metadata": {},
   "outputs": [],
   "source": []
  }
 ],
 "metadata": {
  "kernelspec": {
   "display_name": "Python 3 (ipykernel)",
   "language": "python",
   "name": "python3"
  },
  "language_info": {
   "codemirror_mode": {
    "name": "ipython",
    "version": 3
   },
   "file_extension": ".py",
   "mimetype": "text/x-python",
   "name": "python",
   "nbconvert_exporter": "python",
   "pygments_lexer": "ipython3",
   "version": "3.10.15"
  }
 },
 "nbformat": 4,
 "nbformat_minor": 4
}
