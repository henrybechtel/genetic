{
 "cells": [
  {
   "cell_type": "markdown",
   "metadata": {},
   "source": [
    "# Genetic Linear Regression with Numpy\n",
    "A solution... via evolution!"
   ]
  },
  {
   "cell_type": "code",
   "execution_count": 22,
   "metadata": {},
   "outputs": [],
   "source": [
    "import numpy as np\n",
    "import matplotlib.pyplot as plt"
   ]
  },
  {
   "cell_type": "code",
   "execution_count": 64,
   "metadata": {},
   "outputs": [],
   "source": [
    "sample_num = 10\n",
    "beta_true = [2, 3]\n",
    "x_obs = np.random.normal(25, 10, sample_num)\n",
    "y_obs = beta_true[0] + beta_true[1]*x_obs + np.random.normal(0, 10, sample_num)"
   ]
  },
  {
   "cell_type": "code",
   "execution_count": 65,
   "metadata": {},
   "outputs": [
    {
     "data": {
      "image/png": "[encoded data removed]",
      "text/plain": [
       "<Figure size 640x480 with 1 Axes>"
      ]
     },
     "metadata": {},
     "output_type": "display_data"
    }
   ],
   "source": [
    "plt.scatter(x_obs, y_obs);"
   ]
  },
  {
   "cell_type": "code",
   "execution_count": 34,
   "metadata": {},
   "outputs": [],
   "source": [
    "def rmse_fitness(beta):\n",
    "    y_hat = beta[0] + x_obs*beta[1]\n",
    "    rmse = np.sqrt(np.mean((y_hat - y_obs)**2))\n",
    "    return rmse"
   ]
  },
  {
   "cell_type": "code",
   "execution_count": 35,
   "metadata": {},
   "outputs": [],
   "source": [
    "def rank(betas, rmse_fitness):\n",
    "    scored = np.column_stack((betas, np.apply_along_axis(rmse_fitness, axis=1, arr=betas))) \n",
    "    ranked = scored[scored[:, 2].argsort()]\n",
    "    return ranked"
   ]
  },
  {
   "cell_type": "code",
   "execution_count": 36,
   "metadata": {},
   "outputs": [],
   "source": [
    "def select(ranked, frac):\n",
    "    top_num = int(frac*ranked.shape[0])\n",
    "    survivors = ranked[:top_num]\n",
    "    return survivors"
   ]
  },
  {
   "cell_type": "code",
   "execution_count": 37,
   "metadata": {},
   "outputs": [],
   "source": [
    "def mate(survivors, gen_size):    \n",
    "    rank_weighting = np.linspace(1, 0, survivors.shape[0])\n",
    "    rank_weighting /= rank_weighting.sum()\n",
    "\n",
    "    sampled_b0 = np.random.choice(survivors[:,0], size=gen_size, replace=True, p=rank_weighting)\n",
    "    sampled_b1 = np.random.choice(survivors[:,1], size=gen_size, replace=True, p=rank_weighting)\n",
    "    sampled_betas = np.column_stack((sampled_b0, sampled_b1))\n",
    "\n",
    "    # mutation\n",
    "    mutation = np.random.normal(0, 1, (gen_size, 2))\n",
    "    \n",
    "    # next generation\n",
    "    new_betas = sampled_betas + mutation\n",
    "\n",
    "    return new_betas"
   ]
  },
  {
   "cell_type": "code",
   "execution_count": 38,
   "metadata": {},
   "outputs": [
    {
     "data": {
      "text/plain": [
       "array([-15.87651618,   3.10380219])"
      ]
     },
     "execution_count": 38,
     "metadata": {},
     "output_type": "execute_result"
    }
   ],
   "source": [
    "beta = np.random.normal(-10,10, 2)\n",
    "beta"
   ]
  },
  {
   "cell_type": "code",
   "execution_count": 39,
   "metadata": {},
   "outputs": [
    {
     "data": {
      "text/plain": [
       "np.float64(8.846055278850946)"
      ]
     },
     "execution_count": 39,
     "metadata": {},
     "output_type": "execute_result"
    }
   ],
   "source": [
    "rmse_fitness([ 18.54413807,   3.36654949])"
   ]
  },
  {
   "cell_type": "code",
   "execution_count": 40,
   "metadata": {},
   "outputs": [
    {
     "data": {
      "text/plain": [
       "array([[-10.0213974 , -12.70293347],\n",
       "       [ -7.57560965, -10.94865008],\n",
       "       [ -8.44335752, -12.46158577],\n",
       "       [ -0.25670396,   0.35917515],\n",
       "       [ -6.48183135, -22.8306859 ],\n",
       "       [  6.535151  ,   4.10809764],\n",
       "       [  4.29533584,   1.5227312 ],\n",
       "       [  2.58786661,   5.34114602],\n",
       "       [  8.13221577,  -1.39746905],\n",
       "       [ -3.82509448,  20.47836831]])"
      ]
     },
     "execution_count": 40,
     "metadata": {},
     "output_type": "execute_result"
    }
   ],
   "source": [
    "gen_size = 10\n",
    "betas = np.random.normal(0, 10, (gen_size, 2))\n",
    "betas"
   ]
  },
  {
   "cell_type": "code",
   "execution_count": 41,
   "metadata": {},
   "outputs": [
    {
     "data": {
      "text/plain": [
       "array([[ 6.53515100e+00,  4.10809764e+00,  9.30741027e+00],\n",
       "       [ 2.58786661e+00,  5.34114602e+00,  4.41208454e+01],\n",
       "       [ 4.29533584e+00,  1.52273120e+00,  7.82757475e+01],\n",
       "       [-2.56703956e-01,  3.59175147e-01,  1.20276273e+02],\n",
       "       [ 8.13221577e+00, -1.39746905e+00,  1.69083246e+02],\n",
       "       [-7.57560965e+00, -1.09486501e+01,  4.93473922e+02],\n",
       "       [-3.82509448e+00,  2.04783683e+01,  5.27923946e+02],\n",
       "       [-8.44335752e+00, -1.24615858e+01,  5.43305209e+02],\n",
       "       [-1.00213974e+01, -1.27029335e+01,  5.52643643e+02],\n",
       "       [-6.48183135e+00, -2.28306859e+01,  8.77204807e+02]])"
      ]
     },
     "execution_count": 41,
     "metadata": {},
     "output_type": "execute_result"
    }
   ],
   "source": [
    "ranked = rank(betas, rmse_fitness)\n",
    "ranked"
   ]
  },
  {
   "cell_type": "code",
   "execution_count": 42,
   "metadata": {},
   "outputs": [
    {
     "data": {
      "text/plain": [
       "array([[ 6.535151  ,  4.10809764,  9.30741027],\n",
       "       [ 2.58786661,  5.34114602, 44.12084541]])"
      ]
     },
     "execution_count": 42,
     "metadata": {},
     "output_type": "execute_result"
    }
   ],
   "source": [
    "survivors = select(ranked, 0.2)\n",
    "survivors"
   ]
  },
  {
   "cell_type": "code",
   "execution_count": 43,
   "metadata": {},
   "outputs": [
    {
     "data": {
      "text/plain": [
       "array([1., 0.])"
      ]
     },
     "execution_count": 43,
     "metadata": {},
     "output_type": "execute_result"
    }
   ],
   "source": [
    "sampling_weights = np.linspace(1, 0, survivors.shape[0])\n",
    "sampling_weights /= sampling_weights.sum()\n",
    "sampling_weights"
   ]
  },
  {
   "cell_type": "code",
   "execution_count": 44,
   "metadata": {},
   "outputs": [
    {
     "data": {
      "text/plain": [
       "array([ 9.79081786,  7.2312092 ,  6.91394722, 11.63641491,  5.3204957 ])"
      ]
     },
     "execution_count": 44,
     "metadata": {},
     "output_type": "execute_result"
    }
   ],
   "source": [
    "np.random.normal(survivors[0,0], 3, 5)"
   ]
  },
  {
   "cell_type": "code",
   "execution_count": 45,
   "metadata": {},
   "outputs": [
    {
     "name": "stdout",
     "output_type": "stream",
     "text": [
      "Generation: 0\n",
      "survivors:\n",
      " [[-2.17487539e-01  9.80602379e-01  1.00129408e+02]\n",
      " [-6.20962547e-01  9.91550802e-01  1.00162582e+02]\n",
      " [-1.14207595e-01  9.52980831e-01  1.00923949e+02]\n",
      " [-7.39112764e-01  9.51904524e-01  1.01558835e+02]\n",
      " [-6.72694836e-01  9.29978333e-01  1.02204491e+02]\n",
      " [-9.56715928e-01  9.25767815e-01  1.02613554e+02]\n",
      " [ 3.44844956e-01  8.80120347e-01  1.02840734e+02]\n",
      " [-7.88471619e-01  8.91372291e-01  1.03564867e+02]\n",
      " [-1.03845809e-01  8.59241310e-01  1.03947026e+02]\n",
      " [ 5.80382386e-01  8.36681477e-01  1.04020181e+02]\n",
      " [-6.70512700e-01  8.36148069e-01  1.05238477e+02]\n",
      " [ 4.69622193e-01  7.90309121e-01  1.05626929e+02]\n",
      " [-4.56853134e-01  7.63041692e-01  1.07398845e+02]\n",
      " [-2.27974112e-01  7.31528245e-01  1.08198749e+02]\n",
      " [-2.98007100e-01  7.31746825e-01  1.08258940e+02]\n",
      " [ 8.58277056e-03  7.13414538e-01  1.08557708e+02]\n",
      " [-8.73220666e-01  6.70925276e-01  1.10779745e+02]\n",
      " [-5.22729998e-02  6.41677116e-01  1.10937538e+02]\n",
      " [-6.65420888e-01  6.55421128e-01  1.11081793e+02]\n",
      " [-3.94648393e-02  5.89829803e-01  1.12603037e+02]]\n",
      "next betas: \n",
      " [[-0.54854851  0.16133978]\n",
      " [ 0.6176351   0.51529618]\n",
      " [-1.15049132  1.03183852]\n",
      " [-0.95319304  1.77349007]\n",
      " [-0.11659302  0.19885767]\n",
      " [ 0.51913381  0.73783521]\n",
      " [ 0.59426049  1.25967696]\n",
      " [ 1.01374561 -0.95142452]\n",
      " [ 0.33631864  0.10402099]\n",
      " [ 0.09571128 -0.69505928]]\n",
      "\n",
      "\n",
      "Generation: 1\n",
      "survivors:\n",
      " [[-1.93538787e+00  2.73350141e+00  4.51208562e+01]\n",
      " [ 8.18175868e-02  2.60736667e+00  4.72644810e+01]\n",
      " [-1.51045258e+00  2.64392960e+00  4.76038829e+01]\n",
      " [ 7.75163833e-01  2.28441772e+00  5.70252396e+01]\n",
      " [-1.83423822e-01  2.20134390e+00  6.06238154e+01]\n",
      " [-4.29165361e-01  2.16235118e+00  6.21185205e+01]\n",
      " [ 4.79629633e-01  2.12981416e+00  6.23007321e+01]\n",
      " [-7.56593769e-01  2.16082772e+00  6.24810616e+01]\n",
      " [ 1.84050988e+00  2.04180137e+00  6.38444202e+01]\n",
      " [-1.72732537e+00  2.06491794e+00  6.65103411e+01]\n",
      " [-2.64332001e+00  2.05058021e+00  6.78525400e+01]\n",
      " [-1.00640523e+00  1.97208448e+00  6.88198618e+01]\n",
      " [-1.52744158e+00  1.98102777e+00  6.90302258e+01]\n",
      " [-5.48547150e-02  1.82225905e+00  7.27514623e+01]\n",
      " [-1.04781084e+00  1.83961757e+00  7.31417869e+01]\n",
      " [-1.01966463e-01  1.80238140e+00  7.34391951e+01]\n",
      " [-1.07692760e+00  1.79316681e+00  7.46715255e+01]\n",
      " [ 8.92001148e-01  1.72851341e+00  7.48755943e+01]\n",
      " [-9.53193044e-01  1.77349007e+00  7.51890771e+01]\n",
      " [ 2.44473970e-01  1.73664048e+00  7.52327698e+01]]\n",
      "next betas: \n",
      " [[-1.14183136  1.79250859]\n",
      " [-0.16938074  3.07845866]\n",
      " [-1.11420573  1.55508627]\n",
      " [ 2.44299478  1.81380617]\n",
      " [-2.21818381  1.36905022]\n",
      " [ 1.55402576  2.83468857]\n",
      " [-0.02406287  0.38968907]\n",
      " [-0.29615585  2.30830959]\n",
      " [-2.71555144  2.51277237]\n",
      " [-0.55069746  3.12784396]]\n",
      "\n",
      "\n",
      "Generation: 2\n",
      "survivors:\n",
      " [[-1.42007596  4.16180809  4.58290755]\n",
      " [ 0.32498843  4.00183418  4.65202493]\n",
      " [ 1.20634283  3.76790574  9.49374777]\n",
      " [-0.04399966  4.32832775  9.56898434]\n",
      " [-0.12335825  3.71719744 12.11278129]\n",
      " [ 1.42832229  3.66576925 12.32358895]\n",
      " [-0.09252072  3.69203741 12.85056866]\n",
      " [-0.97986078  3.67385281 14.19915327]\n",
      " [-0.36373583  3.56987364 16.87823255]\n",
      " [-2.93085009  4.66212382 17.07526716]\n",
      " [-1.60597576  3.55624019 18.4484679 ]\n",
      " [-0.15754379  3.40420577 21.91800764]\n",
      " [-2.19746853  3.45452467 22.22282433]\n",
      " [ 2.12351318  3.288882   23.46771181]\n",
      " [ 0.8494453   3.27901932 24.96434585]\n",
      " [-2.62355387  3.36720014 25.40833067]\n",
      " [ 0.97929343  3.16943628 28.34293318]\n",
      " [-0.55069746  3.12784396 31.11530229]\n",
      " [-0.16938074  3.07845866 32.33974992]\n",
      " [-2.45901591  3.13402856 32.72524507]]\n",
      "next betas: \n",
      " [[ 0.38774075  3.32167556]\n",
      " [-0.09546658  3.21034956]\n",
      " [ 0.28034336  5.82796945]\n",
      " [ 0.91062346  3.43764731]\n",
      " [ 0.94495377  4.54576064]\n",
      " [-1.68685068  5.1653698 ]\n",
      " [ 1.6722777   3.54281047]\n",
      " [-0.98303306  4.98788208]\n",
      " [-1.35512367  2.4808948 ]\n",
      " [ 0.50728405  4.53486073]]\n",
      "\n",
      "\n",
      "Generation: 3\n",
      "survivors:\n",
      " [[-2.67126264  4.13862597  4.13718494]\n",
      " [-4.10745945  4.21191357  4.17590729]\n",
      " [ 0.85135978  4.05751227  4.4367048 ]\n",
      " [ 0.05923348  4.02129419  4.50830167]\n",
      " [-1.1491702   4.01682598  4.96354857]\n",
      " [ 2.75239614  4.07193618  5.45955105]\n",
      " [ 0.65445381  4.14658816  5.49685791]\n",
      " [ 1.49013088  4.13179028  5.76613013]\n",
      " [ 0.51082899  4.24203842  7.64807789]\n",
      " [ 2.13610894  3.79592383  7.99948579]\n",
      " [-0.67355506  4.30821061  8.43816519]\n",
      " [ 0.11197696  4.28759279  8.54846152]\n",
      " [ 2.20839397  4.23116751  8.82542375]\n",
      " [-0.6796987   4.32763196  8.9813739 ]\n",
      " [ 2.32393819  3.72097503  9.94273233]\n",
      " [ 0.57111964  4.38195307 11.7170883 ]\n",
      " [ 3.3237637   3.60996835 12.38663335]\n",
      " [-3.71178777  4.55021009 12.86230308]\n",
      " [ 2.66537393  4.38212909 13.69236912]\n",
      " [ 0.26863306  3.62271881 14.66066424]]\n",
      "next betas: \n",
      " [[-1.06146224  4.65689449]\n",
      " [ 1.5601219   4.38943074]\n",
      " [ 1.57248111  3.93151463]\n",
      " [ 2.84532353  5.6528751 ]\n",
      " [ 2.06945096  3.45304377]\n",
      " [ 0.17232755  5.99973516]\n",
      " [-0.12068051  4.06716949]\n",
      " [ 1.80403721  4.90446988]\n",
      " [ 2.61746106  4.72972891]\n",
      " [ 3.71168894  6.88684517]]\n",
      "\n",
      "\n",
      "Generation: 4\n",
      "survivors:\n",
      " [[-0.12068051  4.06716949  4.30158446]\n",
      " [ 2.52481154  3.9768798   4.58788336]\n",
      " [ 0.91104039  4.09227177  4.7587057 ]\n",
      " [-1.42165529  4.17810097  4.81650563]\n",
      " [ 0.95427484  4.09790255  4.85276077]\n",
      " [-1.68588104  4.19105638  4.88471754]\n",
      " [-1.47162757  4.19696296  5.11206115]\n",
      " [ 1.12330933  4.11531325  5.21545714]\n",
      " [ 2.95735175  4.05013154  5.22605357]\n",
      " [ 1.57248111  3.93151463  5.24253181]\n",
      " [-0.16573644  3.97306993  5.28623947]\n",
      " [ 1.61235436  4.14314992  6.09563865]\n",
      " [-1.65928236  3.96427616  6.37324356]\n",
      " [ 3.66361329  3.80729197  6.69720615]\n",
      " [ 0.62062518  3.86230107  7.34647381]\n",
      " [-0.05448355  3.8808828   7.35026912]\n",
      " [-3.01247179  4.35092724  7.62284887]\n",
      " [-4.49138923  3.97477808  8.271283  ]\n",
      " [ 0.16887389  4.30490942  9.08738631]\n",
      " [-0.45061178  3.81947802  9.3597026 ]]\n",
      "next betas: \n",
      " [[-0.55985206  5.58233791]\n",
      " [-2.35878532  4.43827615]\n",
      " [-2.30994535  6.37813632]\n",
      " [ 4.27314881  3.5198096 ]\n",
      " [ 0.6590472   3.30060354]\n",
      " [-0.41371108  2.87783358]\n",
      " [ 3.01912842  3.24844461]\n",
      " [-2.28086287  3.38328427]\n",
      " [ 0.51176917  3.82539612]\n",
      " [-0.84059142  2.2514439 ]]\n",
      "\n",
      "\n"
     ]
    }
   ],
   "source": [
    "gen_size = 100\n",
    "betas = np.random.uniform(-1, 1, (gen_size, 2))\n",
    "best_fit = []\n",
    "verbose = True\n",
    "for gen in range(5):\n",
    "    if verbose:\n",
    "        print(f\"Generation: {gen}\")\n",
    "    \n",
    "    # ranking\n",
    "    ranked = rank(betas, rmse_fitness)\n",
    "    best_fit.append(ranked[0][2])\n",
    "    \n",
    "    # selection\n",
    "    survivors = select(ranked, 0.2)\n",
    "    \n",
    "    if verbose:\n",
    "        print(f\"survivors:\\n {survivors}\")\n",
    "    \n",
    "    # crossover and mutation -> next generation\n",
    "    betas = mate(survivors, gen_size)\n",
    "\n",
    "    if verbose:\n",
    "        print(f\"next betas: \\n {betas[:10]}\")\n",
    "        print('\\n')\n",
    "\n",
    "# print(betas[:10])\n"
   ]
  },
  {
   "cell_type": "code",
   "execution_count": 46,
   "metadata": {},
   "outputs": [
    {
     "data": {
      "text/plain": [
       "[np.float64(100.12940779750498),\n",
       " np.float64(45.12085622239067),\n",
       " np.float64(4.582907548492669),\n",
       " np.float64(4.137184939835678),\n",
       " np.float64(4.301584461434594)]"
      ]
     },
     "execution_count": 46,
     "metadata": {},
     "output_type": "execute_result"
    }
   ],
   "source": [
    "best_fit"
   ]
  },
  {
   "cell_type": "code",
   "execution_count": null,
   "metadata": {},
   "outputs": [],
   "source": []
  },
  {
   "cell_type": "code",
   "execution_count": 61,
   "metadata": {},
   "outputs": [
    {
     "name": "stdout",
     "output_type": "stream",
     "text": [
      "Slope (Coefficient): [4.73202155]\n",
      "Intercept: -18.086933690799626\n"
     ]
    }
   ],
   "source": [
    "import numpy as np\n",
    "import matplotlib.pyplot as plt\n",
    "from sklearn.linear_model import LinearRegression\n",
    "from sklearn.model_selection import train_test_split\n",
    "\n",
    "# Reshape the array to be 2D\n",
    "X_reshaped = x_obs.reshape(-1, 1) \n",
    "\n",
    "# Create and train the linear regression model\n",
    "model = LinearRegression()\n",
    "model.fit(X_reshaped, y_obs)\n",
    "\n",
    "print(\"Slope (Coefficient):\", model.coef_)\n",
    "print(\"Intercept:\", model.intercept_)"
   ]
  },
  {
   "cell_type": "code",
   "execution_count": null,
   "metadata": {},
   "outputs": [],
   "source": []
  }
 ],
 "metadata": {
  "kernelspec": {
   "display_name": "Python 3 (ipykernel)",
   "language": "python",
   "name": "python3"
  },
  "language_info": {
   "codemirror_mode": {
    "name": "ipython",
    "version": 3
   },
   "file_extension": ".py",
   "mimetype": "text/x-python",
   "name": "python",
   "nbconvert_exporter": "python",
   "pygments_lexer": "ipython3",
   "version": "3.10.15"
  }
 },
 "nbformat": 4,
 "nbformat_minor": 4
}
