{
 "cells": [
  {
   "cell_type": "code",
   "execution_count": 9,
   "metadata": {
    "collapsed": true
   },
   "outputs": [],
   "source": [
    "import matplotlib.pyplot as plt\n",
    "import numpy as np\n",
    "import pandas as pd"
   ]
  },
  {
   "cell_type": "code",
   "execution_count": 12,
   "metadata": {},
   "outputs": [
    {
     "data": {
      "text/plain": [
       "0      5.176773\n",
       "1      6.860762\n",
       "2      4.233313\n",
       "3      5.556977\n",
       "4      5.261425\n",
       "5      4.858110\n",
       "6      4.751139\n",
       "7      6.810727\n",
       "8      3.888582\n",
       "9      6.153740\n",
       "10     4.999334\n",
       "11     5.923033\n",
       "12     4.991287\n",
       "13     1.262738\n",
       "14     7.108616\n",
       "15     6.559167\n",
       "16     5.480033\n",
       "17     4.539406\n",
       "18     5.813165\n",
       "19     3.778602\n",
       "20     4.398248\n",
       "21     5.109506\n",
       "22     5.271842\n",
       "23     4.767247\n",
       "24     3.923191\n",
       "25     3.822911\n",
       "26     3.954290\n",
       "27     4.007242\n",
       "28     5.251595\n",
       "29     6.621017\n",
       "         ...   \n",
       "470    5.472489\n",
       "471    4.098759\n",
       "472    6.323979\n",
       "473    5.137867\n",
       "474    4.707480\n",
       "475    3.779717\n",
       "476    4.459152\n",
       "477    4.022454\n",
       "478    4.419492\n",
       "479    5.953849\n",
       "480    3.646497\n",
       "481    2.933021\n",
       "482    6.507617\n",
       "483    3.939280\n",
       "484    4.847349\n",
       "485    4.528572\n",
       "486    4.162487\n",
       "487    5.248798\n",
       "488    6.516302\n",
       "489    4.650720\n",
       "490    4.711226\n",
       "491    6.264285\n",
       "492    3.854807\n",
       "493    4.292364\n",
       "494    4.186630\n",
       "495    3.611826\n",
       "496    3.967916\n",
       "497    5.825952\n",
       "498    5.713432\n",
       "499    6.272459\n",
       "Length: 500, dtype: float64"
      ]
     },
     "execution_count": 12,
     "metadata": {},
     "output_type": "execute_result"
    }
   ],
   "source": [
    "x = pd.Series(np.random.normal(5,1,500))\n"
   ]
  },
  {
   "cell_type": "code",
   "execution_count": null,
   "metadata": {
    "collapsed": true
   },
   "outputs": [],
   "source": []
  }
 ],
 "metadata": {
  "kernelspec": {
   "display_name": "Python 3",
   "language": "python",
   "name": "python3"
  },
  "language_info": {
   "codemirror_mode": {
    "name": "ipython",
    "version": 3
   },
   "file_extension": ".py",
   "mimetype": "text/x-python",
   "name": "python",
   "nbconvert_exporter": "python",
   "pygments_lexer": "ipython3",
   "version": "3.6.1"
  }
 },
 "nbformat": 4,
 "nbformat_minor": 2
}
