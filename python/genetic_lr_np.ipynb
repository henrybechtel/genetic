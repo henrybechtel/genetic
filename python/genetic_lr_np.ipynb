{
 "cells": [
  {
   "cell_type": "markdown",
   "metadata": {},
   "source": [
    "# Genetic Linear Regression with Numpy\n",
    "A solution... via evolution!"
   ]
  },
  {
   "cell_type": "code",
   "execution_count": 322,
   "metadata": {},
   "outputs": [],
   "source": [
    "import numpy as np\n",
    "import matplotlib.pyplot as plt"
   ]
  },
  {
   "cell_type": "code",
   "execution_count": 311,
   "metadata": {},
   "outputs": [],
   "source": [
    "sample_num = 10\n",
    "beta_true = [3, 5]\n",
    "x_obs = np.random.normal(5, 3, sample_num)\n",
    "y_obs = beta_true[0] + beta_true[1]*x_obs + np.random.normal(x_obs, 2, sample_num)"
   ]
  },
  {
   "cell_type": "code",
   "execution_count": 312,
   "metadata": {},
   "outputs": [
    {
     "data": {
      "image/png": "[encoded data removed]",
      "text/plain": [
       "<Figure size 640x480 with 1 Axes>"
      ]
     },
     "metadata": {},
     "output_type": "display_data"
    }
   ],
   "source": [
    "plt.scatter(x_obs, y_obs);"
   ]
  },
  {
   "cell_type": "code",
   "execution_count": 313,
   "metadata": {},
   "outputs": [],
   "source": [
    "def fitness(beta):\n",
    "    y_hat = beta[0] + x_obs*beta[1]\n",
    "    rmse = np.sqrt(np.mean((y_hat - y_obs)**2))\n",
    "    return rmse"
   ]
  },
  {
   "cell_type": "code",
   "execution_count": 244,
   "metadata": {},
   "outputs": [
    {
     "data": {
      "text/plain": [
       "array([ -2.84967731, -17.13110628])"
      ]
     },
     "execution_count": 244,
     "metadata": {},
     "output_type": "execute_result"
    }
   ],
   "source": [
    "beta = np.random.normal(-10,10, 2)\n",
    "beta"
   ]
  },
  {
   "cell_type": "code",
   "execution_count": 314,
   "metadata": {},
   "outputs": [
    {
     "data": {
      "text/plain": [
       "np.float64(7.505361456773878)"
      ]
     },
     "execution_count": 314,
     "metadata": {},
     "output_type": "execute_result"
    }
   ],
   "source": [
    "fitness([  18.54413807,   3.36654949])"
   ]
  },
  {
   "cell_type": "code",
   "execution_count": 323,
   "metadata": {},
   "outputs": [
    {
     "data": {
      "text/plain": [
       "array([[ 17.02981298,   6.397697  ],\n",
       "       [  8.7807527 , -10.9599045 ],\n",
       "       [  6.15149197,  22.88220339],\n",
       "       [  3.42648538,  22.60068446],\n",
       "       [ 13.8999849 ,  16.88462672],\n",
       "       [ -4.69379819,  -2.56425964],\n",
       "       [ -3.8308622 ,  -8.34946189],\n",
       "       [ -7.54421677,  -3.70975658],\n",
       "       [ -4.12258281,  -0.57815806],\n",
       "       [ -1.49314018,   6.09234899]])"
      ]
     },
     "execution_count": 323,
     "metadata": {},
     "output_type": "execute_result"
    }
   ],
   "source": [
    "gen_size = 10\n",
    "betas = np.random.normal(0, 10, (gen_size, 2))\n",
    "betas"
   ]
  },
  {
   "cell_type": "code",
   "execution_count": 324,
   "metadata": {},
   "outputs": [],
   "source": [
    "def rank(betas, fitness):\n",
    "    scored = np.column_stack((betas, np.apply_along_axis(fitness, axis=1, arr=betas))) \n",
    "    ranked = scored[scored[:, 2].argsort()]\n",
    "    return ranked"
   ]
  },
  {
   "cell_type": "code",
   "execution_count": 338,
   "metadata": {},
   "outputs": [
    {
     "data": {
      "text/plain": [
       "np.float64(1.6894082193116031)"
      ]
     },
     "execution_count": 338,
     "metadata": {},
     "output_type": "execute_result"
    }
   ],
   "source": [
    "ranked = rank(betas, fitness)\n",
    "ranked[0][2]"
   ]
  },
  {
   "cell_type": "code",
   "execution_count": null,
   "metadata": {},
   "outputs": [],
   "source": []
  },
  {
   "cell_type": "code",
   "execution_count": null,
   "metadata": {},
   "outputs": [],
   "source": []
  },
  {
   "cell_type": "code",
   "execution_count": 273,
   "metadata": {},
   "outputs": [
    {
     "data": {
      "text/plain": [
       "array([[ 8.82563746,  5.43049652,  3.01468225],\n",
       "       [-0.30784886,  7.16157456,  4.39431834],\n",
       "       [-5.86176077,  5.26844229, 12.94305913]])"
      ]
     },
     "execution_count": 273,
     "metadata": {},
     "output_type": "execute_result"
    }
   ],
   "source": [
    "# selection\n",
    "top_num = int(0.3*betas.shape[0])\n",
    "survivors = ranked[:top_num]\n",
    "survivors"
   ]
  },
  {
   "cell_type": "code",
   "execution_count": 329,
   "metadata": {},
   "outputs": [],
   "source": [
    "def select(ranked, frac):\n",
    "    top_num = int(frac*ranked.shape[0])\n",
    "    survivors = ranked[:top_num]\n",
    "    return survivors"
   ]
  },
  {
   "cell_type": "code",
   "execution_count": null,
   "metadata": {},
   "outputs": [],
   "source": []
  },
  {
   "cell_type": "code",
   "execution_count": 289,
   "metadata": {},
   "outputs": [
    {
     "data": {
      "text/plain": [
       "array([[-0.41401975,  7.00685483],\n",
       "       [-1.10499099,  6.74137172],\n",
       "       [-5.48688157,  4.06484199],\n",
       "       [-2.20819581,  4.77656722],\n",
       "       [-6.15780444,  5.85793823],\n",
       "       [ 0.49973848,  4.00719422],\n",
       "       [ 0.41496576,  5.3531878 ],\n",
       "       [ 9.18664154,  7.19113514],\n",
       "       [ 8.42713916,  8.1524785 ],\n",
       "       [-4.46256206,  5.84369234]])"
      ]
     },
     "execution_count": 289,
     "metadata": {},
     "output_type": "execute_result"
    }
   ],
   "source": [
    "# crossover\n",
    "cross_b0 = np.random.choice(survivors[:,0], size=gen_size, replace=True)\n",
    "cross_b1 = np.random.choice(survivors[:,1], size=gen_size, replace=True)\n",
    "cross_betas = np.column_stack((cross_b0, cross_b1))\n",
    "\n",
    "# mutation\n",
    "mut = np.random.normal(0, 1, (gen_size, 2))\n",
    "\n",
    "betas = cross_betas + mut\n",
    "betas"
   ]
  },
  {
   "cell_type": "code",
   "execution_count": 279,
   "metadata": {},
   "outputs": [
    {
     "data": {
      "text/plain": [
       "array([[-4.23438012,  3.89439324],\n",
       "       [ 7.0471856 ,  5.41578077],\n",
       "       [ 8.43401771,  5.83348836],\n",
       "       [-0.47134067,  6.26662166],\n",
       "       [10.5508555 ,  6.09853122],\n",
       "       [ 0.66865011,  7.09214429],\n",
       "       [ 9.28926895,  7.58811611],\n",
       "       [ 7.95823808,  4.4486359 ],\n",
       "       [-4.98544228,  7.42151411],\n",
       "       [ 9.0729611 ,  7.82712536]])"
      ]
     },
     "execution_count": 279,
     "metadata": {},
     "output_type": "execute_result"
    }
   ],
   "source": [
    "betas + mut"
   ]
  },
  {
   "cell_type": "code",
   "execution_count": 173,
   "metadata": {},
   "outputs": [
    {
     "data": {
      "text/plain": [
       "array([-3.65833812,  4.59164743, -4.32214465,  1.15297178, -3.40671887])"
      ]
     },
     "execution_count": 173,
     "metadata": {},
     "output_type": "execute_result"
    }
   ],
   "source": [
    "np.random.normal(survivors[0,0], 3, 5)"
   ]
  },
  {
   "cell_type": "code",
   "execution_count": 347,
   "metadata": {},
   "outputs": [],
   "source": [
    "gen_size = 100\n",
    "betas = np.random.normal(0, 20, (gen_size, 2))\n",
    "best_fit = []\n",
    "verbose = False\n",
    "for gen in range(10):\n",
    "    if verbose:\n",
    "        print(f\"Generation: {gen}\")\n",
    "    \n",
    "    # ranking\n",
    "    ranked = rank(betas, fitness)\n",
    "    best_fit.append(ranked[0][2])\n",
    "    \n",
    "    # selection\n",
    "    survivors = select(ranked, 0.2)\n",
    "    \n",
    "    if verbose:\n",
    "        print(survivors)\n",
    "    \n",
    "    # crossover\n",
    "    cross_b0 = np.random.choice(survivors[:,0], size=gen_size, replace=True)\n",
    "    cross_b1 = np.random.choice(survivors[:,1], size=gen_size, replace=True)\n",
    "    cross_betas = np.column_stack((cross_b0, cross_b1))\n",
    "    \n",
    "    # mutation\n",
    "    mut = np.random.normal(0, 1, (gen_size, 2))\n",
    "\n",
    "    # next generation\n",
    "    betas = cross_betas + mut\n",
    "\n",
    "    if verbose:\n",
    "        print(betas[:10])\n",
    "        print('\\n')\n",
    "\n",
    "# print(betas[:10])\n"
   ]
  },
  {
   "cell_type": "code",
   "execution_count": 348,
   "metadata": {},
   "outputs": [
    {
     "data": {
      "text/plain": [
       "[np.float64(3.777152950837451),\n",
       " np.float64(2.089993436027824),\n",
       " np.float64(1.7752211925704071),\n",
       " np.float64(1.6691929536983745),\n",
       " np.float64(1.7473545319621773),\n",
       " np.float64(1.6577136061517503),\n",
       " np.float64(1.6085893396893838),\n",
       " np.float64(1.6171659942938315),\n",
       " np.float64(1.6103917102307157),\n",
       " np.float64(1.683328933800513)]"
      ]
     },
     "execution_count": 348,
     "metadata": {},
     "output_type": "execute_result"
    }
   ],
   "source": [
    "best_fit"
   ]
  },
  {
   "cell_type": "code",
   "execution_count": null,
   "metadata": {},
   "outputs": [],
   "source": []
  },
  {
   "cell_type": "code",
   "execution_count": null,
   "metadata": {},
   "outputs": [],
   "source": []
  },
  {
   "cell_type": "code",
   "execution_count": null,
   "metadata": {},
   "outputs": [],
   "source": []
  },
  {
   "cell_type": "code",
   "execution_count": null,
   "metadata": {},
   "outputs": [],
   "source": []
  },
  {
   "cell_type": "code",
   "execution_count": 167,
   "metadata": {},
   "outputs": [
    {
     "data": {
      "text/plain": [
       "np.float64(6.135552503698909)"
      ]
     },
     "execution_count": 167,
     "metadata": {},
     "output_type": "execute_result"
    }
   ],
   "source": []
  },
  {
   "cell_type": "code",
   "execution_count": 71,
   "metadata": {},
   "outputs": [
    {
     "data": {
      "text/plain": [
       "array([[4.55887544, 1.        ],\n",
       "       [4.75371208, 1.        ],\n",
       "       [5.9416388 , 1.        ],\n",
       "       [2.93875297, 1.        ],\n",
       "       [4.88767311, 1.        ],\n",
       "       [4.01543479, 1.        ],\n",
       "       [6.07250081, 1.        ],\n",
       "       [6.79460769, 1.        ],\n",
       "       [4.52476698, 1.        ],\n",
       "       [4.60889876, 1.        ]])"
      ]
     },
     "execution_count": 71,
     "metadata": {},
     "output_type": "execute_result"
    }
   ],
   "source": [
    "x_matrix = np.hstack((x.reshape(-1, 1), np.ones((10,1))))\n",
    "x_matrix"
   ]
  },
  {
   "cell_type": "code",
   "execution_count": 84,
   "metadata": {},
   "outputs": [
    {
     "data": {
      "text/plain": [
       "array([[-10.69567271,  -2.33136499],\n",
       "       [-19.44142261, -18.04879131],\n",
       "       [-12.30165864, -12.56716259],\n",
       "       [ -8.59129223, -22.16883844]])"
      ]
     },
     "execution_count": 84,
     "metadata": {},
     "output_type": "execute_result"
    }
   ],
   "source": [
    "beta"
   ]
  },
  {
   "cell_type": "code",
   "execution_count": 85,
   "metadata": {},
   "outputs": [
    {
     "data": {
      "text/plain": [
       "array([[ -51.09160463, -106.67981536,  -68.648892  ,  -61.33546956],\n",
       "       [ -53.17551362, -110.46771692,  -71.04570589,  -63.00936812],\n",
       "       [ -65.88118895, -133.56270217,  -85.6591748 ,  -73.21519365],\n",
       "       [ -33.76330499,  -75.18232984,  -48.71869849,  -47.41652402],\n",
       "       [ -54.60831696, -113.07210993,  -72.69364876,  -64.16026648],\n",
       "       [ -45.27914127,  -96.11455597,  -61.9636706 ,  -56.66661211],\n",
       "       [ -67.28084621, -136.10684588,  -87.26899462,  -74.33946745],\n",
       "       [ -75.00426504, -150.14563086,  -96.15210692,  -80.54329865],\n",
       "       [ -50.72679175, -106.01669846,  -68.22930142,  -61.04243385],\n",
       "       [ -51.62663772, -107.65233993,  -69.26426184,  -61.76523455]])"
      ]
     },
     "execution_count": 85,
     "metadata": {},
     "output_type": "execute_result"
    }
   ],
   "source": [
    "np.dot(x_matrix, beta.T)"
   ]
  },
  {
   "cell_type": "code",
   "execution_count": 32,
   "metadata": {},
   "outputs": [
    {
     "ename": "ValueError",
     "evalue": "operands could not be broadcast together with shapes (100,) (10,) ",
     "output_type": "error",
     "traceback": [
      "\u001b[0;31m---------------------------------------------------------------------------\u001b[0m",
      "\u001b[0;31mValueError\u001b[0m                                Traceback (most recent call last)",
      "Cell \u001b[0;32mIn[32], line 1\u001b[0m\n\u001b[0;32m----> 1\u001b[0m y_hat \u001b[38;5;241m=\u001b[39m \u001b[43mx\u001b[49m\u001b[38;5;241;43m*\u001b[39;49m\u001b[43mbeta\u001b[49m\u001b[43m[\u001b[49m\u001b[43m:\u001b[49m\u001b[43m,\u001b[49m\u001b[43m \u001b[49m\u001b[38;5;241;43m1\u001b[39;49m\u001b[43m]\u001b[49m \u001b[38;5;241m+\u001b[39m beta[:, \u001b[38;5;241m0\u001b[39m]\n",
      "\u001b[0;31mValueError\u001b[0m: operands could not be broadcast together with shapes (100,) (10,) "
     ]
    }
   ],
   "source": [
    "y_hat = x*beta[:, 1] + beta[:, 0]"
   ]
  },
  {
   "cell_type": "code",
   "execution_count": 21,
   "metadata": {},
   "outputs": [
    {
     "data": {
      "text/plain": [
       "array([16.98337177, 15.454338  , 17.35895701, 14.50995236, 13.61898471,\n",
       "       14.23902465, 16.75154045, 15.15445358, 15.89961136, 16.69344591,\n",
       "       15.43777389, 16.76813966, 16.157984  , 15.0901266 , 16.03939055,\n",
       "       15.78478258, 13.69721687, 17.98087779, 14.54354204, 16.32711209,\n",
       "       15.9338782 , 15.10644838, 15.69235247, 16.07706045, 15.41262249,\n",
       "       15.94512809, 17.86426021, 17.50999948, 14.05215895, 14.70034295,\n",
       "       13.23922741, 14.84531573, 14.57854025, 17.99219944, 15.64284187,\n",
       "       12.78977828, 17.58379987, 16.59693074, 16.08540482, 17.09234947,\n",
       "       17.56782231, 16.36729244, 15.65817837, 16.58021579, 16.22632692,\n",
       "       15.98884064, 14.42610487, 14.74419767, 16.55978783, 15.13212749,\n",
       "       17.53615194, 14.72290724, 15.71490761, 16.98097525, 16.9099587 ,\n",
       "       13.21148041, 16.48630164, 18.35893452, 18.02450256, 15.38424723,\n",
       "       13.88810785, 15.87102763, 16.80165167, 15.36783725, 17.07681592,\n",
       "       15.48801469, 19.29857447, 15.6691447 , 16.29912934, 17.12265579,\n",
       "       15.30942145, 15.75323975, 17.11258199, 13.59568316, 15.90020467,\n",
       "       17.60645909, 16.83022949, 15.29198968, 17.28403398, 16.43150764,\n",
       "       16.10582782, 15.40561979, 15.33449489, 15.81762907, 17.11276297,\n",
       "       16.12971074, 17.05663864, 16.91056077, 18.41426582, 15.93119194,\n",
       "       15.95204092, 17.0574789 , 17.5873943 , 14.22093536, 17.54172271,\n",
       "       15.33744188, 18.90720104, 18.44117137, 16.61085646, 15.88762816])"
      ]
     },
     "execution_count": 21,
     "metadata": {},
     "output_type": "execute_result"
    }
   ],
   "source": [
    "error = y - y_hat\n",
    "error"
   ]
  },
  {
   "cell_type": "code",
   "execution_count": 24,
   "metadata": {},
   "outputs": [
    {
     "data": {
      "text/plain": [
       "np.float64(16.128328624738035)"
      ]
     },
     "execution_count": 24,
     "metadata": {},
     "output_type": "execute_result"
    }
   ],
   "source": [
    "np.sqrt(np.mean(error**2))"
   ]
  },
  {
   "cell_type": "code",
   "execution_count": null,
   "metadata": {},
   "outputs": [],
   "source": []
  }
 ],
 "metadata": {
  "kernelspec": {
   "display_name": "Python 3 (ipykernel)",
   "language": "python",
   "name": "python3"
  },
  "language_info": {
   "codemirror_mode": {
    "name": "ipython",
    "version": 3
   },
   "file_extension": ".py",
   "mimetype": "text/x-python",
   "name": "python",
   "nbconvert_exporter": "python",
   "pygments_lexer": "ipython3",
   "version": "3.10.14"
  }
 },
 "nbformat": 4,
 "nbformat_minor": 4
}
