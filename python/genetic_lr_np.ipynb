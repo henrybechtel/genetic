{
 "cells": [
  {
   "cell_type": "markdown",
   "metadata": {},
   "source": [
    "# Genetic Linear Regression with Numpy\n",
    "A solution... via evolution!"
   ]
  },
  {
   "cell_type": "code",
   "execution_count": 322,
   "metadata": {},
   "outputs": [],
   "source": [
    "import numpy as np\n",
    "import matplotlib.pyplot as plt"
   ]
  },
  {
   "cell_type": "code",
   "execution_count": 311,
   "metadata": {},
   "outputs": [],
   "source": [
    "sample_num = 10\n",
    "beta_true = [3, 5]\n",
    "x_obs = np.random.normal(5, 3, sample_num)\n",
    "y_obs = beta_true[0] + beta_true[1]*x_obs + np.random.normal(x_obs, 2, sample_num)"
   ]
  },
  {
   "cell_type": "code",
   "execution_count": 312,
   "metadata": {},
   "outputs": [
    {
     "data": {
      "image/png": "[encoded data removed]",
      "text/plain": [
       "<Figure size 640x480 with 1 Axes>"
      ]
     },
     "metadata": {},
     "output_type": "display_data"
    }
   ],
   "source": [
    "plt.scatter(x_obs, y_obs);"
   ]
  },
  {
   "cell_type": "code",
   "execution_count": 350,
   "metadata": {},
   "outputs": [],
   "source": [
    "def get_fitness(beta):\n",
    "    y_hat = beta[0] + x_obs*beta[1]\n",
    "    rmse = np.sqrt(np.mean((y_hat - y_obs)**2))\n",
    "    return rmse"
   ]
  },
  {
   "cell_type": "code",
   "execution_count": 244,
   "metadata": {},
   "outputs": [
    {
     "data": {
      "text/plain": [
       "array([ -2.84967731, -17.13110628])"
      ]
     },
     "execution_count": 244,
     "metadata": {},
     "output_type": "execute_result"
    }
   ],
   "source": [
    "beta = np.random.normal(-10,10, 2)\n",
    "beta"
   ]
  },
  {
   "cell_type": "code",
   "execution_count": 314,
   "metadata": {},
   "outputs": [
    {
     "data": {
      "text/plain": [
       "np.float64(7.505361456773878)"
      ]
     },
     "execution_count": 314,
     "metadata": {},
     "output_type": "execute_result"
    }
   ],
   "source": [
    "fitness([  18.54413807,   3.36654949])"
   ]
  },
  {
   "cell_type": "code",
   "execution_count": 323,
   "metadata": {},
   "outputs": [
    {
     "data": {
      "text/plain": [
       "array([[ 17.02981298,   6.397697  ],\n",
       "       [  8.7807527 , -10.9599045 ],\n",
       "       [  6.15149197,  22.88220339],\n",
       "       [  3.42648538,  22.60068446],\n",
       "       [ 13.8999849 ,  16.88462672],\n",
       "       [ -4.69379819,  -2.56425964],\n",
       "       [ -3.8308622 ,  -8.34946189],\n",
       "       [ -7.54421677,  -3.70975658],\n",
       "       [ -4.12258281,  -0.57815806],\n",
       "       [ -1.49314018,   6.09234899]])"
      ]
     },
     "execution_count": 323,
     "metadata": {},
     "output_type": "execute_result"
    }
   ],
   "source": [
    "gen_size = 10\n",
    "betas = np.random.normal(0, 10, (gen_size, 2))\n",
    "betas"
   ]
  },
  {
   "cell_type": "code",
   "execution_count": 324,
   "metadata": {},
   "outputs": [],
   "source": [
    "def rank(betas, fitness):\n",
    "    scored = np.column_stack((betas, np.apply_along_axis(fitness, axis=1, arr=betas))) \n",
    "    ranked = scored[scored[:, 2].argsort()]\n",
    "    return ranked"
   ]
  },
  {
   "cell_type": "code",
   "execution_count": 353,
   "metadata": {},
   "outputs": [
    {
     "data": {
      "text/plain": [
       "array([[ 2.67642774,  5.99980872,  1.61968527],\n",
       "       [ 1.85347167,  6.12549957,  1.67246376],\n",
       "       [ 1.83227511,  6.19346864,  1.67330856],\n",
       "       [ 2.38718694,  6.16278811,  1.69163042],\n",
       "       [ 4.01590815,  5.84521625,  1.70975394],\n",
       "       [ 1.79232009,  6.09775157,  1.71787792],\n",
       "       [ 1.83460149,  6.25529008,  1.74883261],\n",
       "       [ 0.97487773,  6.33355542,  1.81867669],\n",
       "       [ 1.27401275,  6.14988401,  1.83674811],\n",
       "       [ 2.33115133,  6.23627065,  1.83981892],\n",
       "       [ 0.80137135,  6.3078937 ,  1.84306198],\n",
       "       [ 2.49295206,  6.23439087,  1.90017853],\n",
       "       [ 1.41943693,  6.39819507,  1.99015911],\n",
       "       [ 1.25756898,  6.42693201,  2.02545546],\n",
       "       [ 1.95643926,  6.35485835,  2.0550214 ],\n",
       "       [ 5.60881476,  5.58631594,  2.06745172],\n",
       "       [ 2.4397908 ,  5.82157432,  2.15875204],\n",
       "       [ 2.71240087,  6.29669361,  2.24097103],\n",
       "       [-0.27533239,  6.34181741,  2.28363371],\n",
       "       [ 1.74444113,  5.8919126 ,  2.34642827],\n",
       "       [ 1.49450673,  5.92623159,  2.3882106 ],\n",
       "       [ 0.96802362,  6.0120408 ,  2.43857016],\n",
       "       [-0.87286351,  6.43238803,  2.46179717],\n",
       "       [ 0.9923261 ,  6.5828714 ,  2.46792337],\n",
       "       [ 2.03805931,  5.7840177 ,  2.59342874],\n",
       "       [ 1.94811377,  5.77007602,  2.72507175],\n",
       "       [ 2.78329051,  5.62974776,  2.75558489],\n",
       "       [ 3.01305846,  5.57243803,  2.86227208],\n",
       "       [-0.26258336,  6.11788081,  2.99971451],\n",
       "       [ 2.59682278,  5.60505795,  3.01273735],\n",
       "       [ 1.58094852,  6.63126998,  3.01432562],\n",
       "       [-0.28231731,  6.11772719,  3.01693418],\n",
       "       [ 2.41716124,  5.63059449,  3.0260534 ],\n",
       "       [ 2.10530152,  5.67464437,  3.0557399 ],\n",
       "       [ 2.43476012,  6.52731915,  3.10256454],\n",
       "       [ 2.7937847 ,  5.55285436,  3.11995063],\n",
       "       [ 0.72358918,  6.77022959,  3.14242497],\n",
       "       [ 2.12680062,  6.58948885,  3.18614355],\n",
       "       [ 2.57561878,  5.54020947,  3.35291479],\n",
       "       [ 2.23170307,  5.58409294,  3.40610134],\n",
       "       [ 0.34305788,  5.90657455,  3.41789687],\n",
       "       [ 1.56077258,  5.66935849,  3.53169351],\n",
       "       [ 1.82128052,  6.77138836,  3.89072279],\n",
       "       [ 1.30416972,  5.63321876,  3.93902242],\n",
       "       [ 4.71199343,  5.11692651,  3.94548627],\n",
       "       [ 5.14515922,  5.03739915,  4.06063393],\n",
       "       [ 2.3800632 ,  6.73749518,  4.14588775],\n",
       "       [ 3.46824909,  5.22509717,  4.29659747],\n",
       "       [ 3.46374417,  6.59867193,  4.30200536],\n",
       "       [ 5.33086723,  6.28566422,  4.31245531],\n",
       "       [ 3.499998  ,  6.60583662,  4.37150298],\n",
       "       [ 2.4900301 ,  6.78013203,  4.4635696 ],\n",
       "       [ 3.21728307,  6.67183443,  4.48505179],\n",
       "       [ 1.2021625 ,  6.9753753 ,  4.50475833],\n",
       "       [ 4.16905761,  5.07843318,  4.54022681],\n",
       "       [ 2.6777045 ,  6.81040132,  4.78274334],\n",
       "       [ 1.59338322,  5.42457805,  4.79368608],\n",
       "       [ 1.48312404,  7.02729518,  4.99947848],\n",
       "       [ 5.15609752,  6.46608806,  5.10008462],\n",
       "       [ 1.8455102 ,  5.23817504,  5.59177733],\n",
       "       [ 1.79689968,  5.23802241,  5.63562137],\n",
       "       [ 4.63048247,  6.68576725,  5.8117494 ],\n",
       "       [ 1.20919802,  5.28201587,  5.91841645],\n",
       "       [ 0.38433895,  5.41152747,  5.96015774],\n",
       "       [ 1.97972979,  5.13608902,  6.03981192],\n",
       "       [ 1.06513079,  7.282518  ,  6.07191958],\n",
       "       [ 2.19126785,  7.12872826,  6.13486782],\n",
       "       [ 2.24232717,  7.1281156 ,  6.17429486],\n",
       "       [ 0.73775964,  5.29950833,  6.2511157 ],\n",
       "       [ 1.22279852,  5.19079209,  6.41234141],\n",
       "       [-0.08807187,  5.39356936,  6.49785809],\n",
       "       [ 2.41939241,  4.9600648 ,  6.6384701 ],\n",
       "       [ 1.83552997,  4.93794044,  7.27883257],\n",
       "       [ 3.87235156,  7.12115244,  7.55638357],\n",
       "       [ 0.61797613,  5.07001723,  7.64041419],\n",
       "       [ 2.42905592,  4.77150755,  7.69345797],\n",
       "       [ 1.13176151,  4.88791215,  8.19594719],\n",
       "       [ 3.11418009,  7.37997713,  8.34804584],\n",
       "       [ 3.48807271,  7.41188349,  8.86084848],\n",
       "       [ 2.46550637,  7.60972274,  9.08783906],\n",
       "       [ 2.60888149,  7.62071457,  9.27529417],\n",
       "       [ 1.0842522 ,  7.87730282,  9.43394062],\n",
       "       [ 6.44649994,  7.04064404,  9.47952104],\n",
       "       [ 1.93235755,  4.52629328,  9.52792107],\n",
       "       [ 0.40976475,  8.02548032,  9.71672503],\n",
       "       [ 1.41193692,  7.90486387,  9.86670677],\n",
       "       [ 2.20170799,  4.38553602, 10.09119211],\n",
       "       [ 3.26763993,  7.69558539, 10.28309659],\n",
       "       [ 1.17069573,  4.51311518, 10.28988915],\n",
       "       [-0.0733762 ,  8.3375321 , 11.09319869],\n",
       "       [ 2.2649765 ,  4.1966577 , 11.11553336],\n",
       "       [ 3.27141136,  4.00692482, 11.31677996],\n",
       "       [ 3.45181905,  3.8325043 , 12.15985056],\n",
       "       [ 1.23343816,  4.09109201, 12.64716043],\n",
       "       [ 0.90030092,  8.6010186 , 13.41472993],\n",
       "       [ 2.14366364,  8.52581492, 14.05637567],\n",
       "       [ 2.69307347,  8.44818186, 14.09247814],\n",
       "       [ 5.26447843,  8.14696603, 14.67668832],\n",
       "       [ 2.37457272,  3.55394287, 14.70924661],\n",
       "       [ 0.3658442 ,  3.7502417 , 15.39369296]])"
      ]
     },
     "execution_count": 353,
     "metadata": {},
     "output_type": "execute_result"
    }
   ],
   "source": [
    "ranked = rank(betas, fitness)\n",
    "ranked"
   ]
  },
  {
   "cell_type": "code",
   "execution_count": null,
   "metadata": {},
   "outputs": [],
   "source": []
  },
  {
   "cell_type": "code",
   "execution_count": null,
   "metadata": {},
   "outputs": [],
   "source": []
  },
  {
   "cell_type": "code",
   "execution_count": 329,
   "metadata": {},
   "outputs": [],
   "source": [
    "def select(ranked, frac):\n",
    "    top_num = int(frac*ranked.shape[0])\n",
    "    survivors = ranked[:top_num]\n",
    "    return survivors"
   ]
  },
  {
   "cell_type": "code",
   "execution_count": 354,
   "metadata": {},
   "outputs": [
    {
     "data": {
      "text/plain": [
       "array([[ 2.67642774,  5.99980872,  1.61968527],\n",
       "       [ 1.85347167,  6.12549957,  1.67246376],\n",
       "       [ 1.83227511,  6.19346864,  1.67330856],\n",
       "       [ 2.38718694,  6.16278811,  1.69163042],\n",
       "       [ 4.01590815,  5.84521625,  1.70975394],\n",
       "       [ 1.79232009,  6.09775157,  1.71787792],\n",
       "       [ 1.83460149,  6.25529008,  1.74883261],\n",
       "       [ 0.97487773,  6.33355542,  1.81867669],\n",
       "       [ 1.27401275,  6.14988401,  1.83674811],\n",
       "       [ 2.33115133,  6.23627065,  1.83981892],\n",
       "       [ 0.80137135,  6.3078937 ,  1.84306198],\n",
       "       [ 2.49295206,  6.23439087,  1.90017853],\n",
       "       [ 1.41943693,  6.39819507,  1.99015911],\n",
       "       [ 1.25756898,  6.42693201,  2.02545546],\n",
       "       [ 1.95643926,  6.35485835,  2.0550214 ],\n",
       "       [ 5.60881476,  5.58631594,  2.06745172],\n",
       "       [ 2.4397908 ,  5.82157432,  2.15875204],\n",
       "       [ 2.71240087,  6.29669361,  2.24097103],\n",
       "       [-0.27533239,  6.34181741,  2.28363371],\n",
       "       [ 1.74444113,  5.8919126 ,  2.34642827]])"
      ]
     },
     "execution_count": 354,
     "metadata": {},
     "output_type": "execute_result"
    }
   ],
   "source": [
    "survivors = select(ranked, 0.2)\n",
    "survivors"
   ]
  },
  {
   "cell_type": "code",
   "execution_count": 356,
   "metadata": {},
   "outputs": [
    {
     "data": {
      "text/plain": [
       "array([0.1       , 0.09473684, 0.08947368, 0.08421053, 0.07894737,\n",
       "       0.07368421, 0.06842105, 0.06315789, 0.05789474, 0.05263158,\n",
       "       0.04736842, 0.04210526, 0.03684211, 0.03157895, 0.02631579,\n",
       "       0.02105263, 0.01578947, 0.01052632, 0.00526316, 0.        ])"
      ]
     },
     "execution_count": 356,
     "metadata": {},
     "output_type": "execute_result"
    }
   ],
   "source": [
    "sampling_weights = np.linspace(1, 0, survivors.shape[0])\n",
    "sampling_weights /= weights.sum()\n",
    "sampling_weights"
   ]
  },
  {
   "cell_type": "code",
   "execution_count": null,
   "metadata": {},
   "outputs": [],
   "source": []
  },
  {
   "cell_type": "code",
   "execution_count": null,
   "metadata": {},
   "outputs": [],
   "source": []
  },
  {
   "cell_type": "code",
   "execution_count": null,
   "metadata": {},
   "outputs": [],
   "source": []
  },
  {
   "cell_type": "code",
   "execution_count": 289,
   "metadata": {},
   "outputs": [
    {
     "data": {
      "text/plain": [
       "array([[-0.41401975,  7.00685483],\n",
       "       [-1.10499099,  6.74137172],\n",
       "       [-5.48688157,  4.06484199],\n",
       "       [-2.20819581,  4.77656722],\n",
       "       [-6.15780444,  5.85793823],\n",
       "       [ 0.49973848,  4.00719422],\n",
       "       [ 0.41496576,  5.3531878 ],\n",
       "       [ 9.18664154,  7.19113514],\n",
       "       [ 8.42713916,  8.1524785 ],\n",
       "       [-4.46256206,  5.84369234]])"
      ]
     },
     "execution_count": 289,
     "metadata": {},
     "output_type": "execute_result"
    }
   ],
   "source": [
    "# crossover\n",
    "cross_b0 = np.random.choice(survivors[:,0], size=gen_size, replace=True)\n",
    "cross_b1 = np.random.choice(survivors[:,1], size=gen_size, replace=True)\n",
    "cross_betas = np.column_stack((cross_b0, cross_b1))\n",
    "\n",
    "# mutation\n",
    "mut = np.random.normal(0, 1, (gen_size, 2))\n",
    "\n",
    "betas = cross_betas + mut\n",
    "betas"
   ]
  },
  {
   "cell_type": "code",
   "execution_count": 279,
   "metadata": {},
   "outputs": [
    {
     "data": {
      "text/plain": [
       "array([[-4.23438012,  3.89439324],\n",
       "       [ 7.0471856 ,  5.41578077],\n",
       "       [ 8.43401771,  5.83348836],\n",
       "       [-0.47134067,  6.26662166],\n",
       "       [10.5508555 ,  6.09853122],\n",
       "       [ 0.66865011,  7.09214429],\n",
       "       [ 9.28926895,  7.58811611],\n",
       "       [ 7.95823808,  4.4486359 ],\n",
       "       [-4.98544228,  7.42151411],\n",
       "       [ 9.0729611 ,  7.82712536]])"
      ]
     },
     "execution_count": 279,
     "metadata": {},
     "output_type": "execute_result"
    }
   ],
   "source": [
    "betas + mut"
   ]
  },
  {
   "cell_type": "code",
   "execution_count": 173,
   "metadata": {},
   "outputs": [
    {
     "data": {
      "text/plain": [
       "array([-3.65833812,  4.59164743, -4.32214465,  1.15297178, -3.40671887])"
      ]
     },
     "execution_count": 173,
     "metadata": {},
     "output_type": "execute_result"
    }
   ],
   "source": [
    "np.random.normal(survivors[0,0], 3, 5)"
   ]
  },
  {
   "cell_type": "code",
   "execution_count": 362,
   "metadata": {},
   "outputs": [
    {
     "name": "stdout",
     "output_type": "stream",
     "text": [
      "[[5.42674712 5.94526909]\n",
      " [3.24664919 4.87408108]\n",
      " [3.11311585 6.08106843]\n",
      " [2.56943442 4.25700344]\n",
      " [3.77909565 5.23838944]\n",
      " [2.9438717  6.30087505]\n",
      " [2.79279497 7.9797434 ]\n",
      " [2.13397664 8.95124578]\n",
      " [1.58913138 5.64627315]\n",
      " [1.56261245 6.54222395]]\n"
     ]
    }
   ],
   "source": [
    "gen_size = 100\n",
    "betas = np.random.normal(0, 20, (gen_size, 2))\n",
    "best_fit = []\n",
    "verbose = False\n",
    "for gen in range(10):\n",
    "    if verbose:\n",
    "        print(f\"Generation: {gen}\")\n",
    "    \n",
    "    # ranking\n",
    "    ranked = rank(betas, get_fitness)\n",
    "    best_fit.append(ranked[0][2])\n",
    "    \n",
    "    # selection\n",
    "    survivors = select(ranked, 0.2)\n",
    "    \n",
    "    if verbose:\n",
    "        print(survivors)\n",
    "\n",
    "    sampling_weights = np.linspace(1, 0, survivors.shape[0])\n",
    "    sampling_weights /= sampling_weights.sum()\n",
    "    \n",
    "    # crossover\n",
    "    cross_b0 = np.random.choice(survivors[:,0], size=gen_size, replace=True, p=sampling_weights)\n",
    "    cross_b1 = np.random.choice(survivors[:,1], size=gen_size, replace=True, p=sampling_weights)\n",
    "    cross_betas = np.column_stack((cross_b0, cross_b1))\n",
    "    \n",
    "    # mutation\n",
    "    mut = np.random.normal(0, 1, (gen_size, 2))\n",
    "\n",
    "    # next generation\n",
    "    betas = cross_betas + mut\n",
    "\n",
    "    if verbose:\n",
    "        print(betas[:10])\n",
    "        print('\\n')\n",
    "\n",
    "print(betas[:10])\n"
   ]
  },
  {
   "cell_type": "code",
   "execution_count": 363,
   "metadata": {},
   "outputs": [
    {
     "data": {
      "text/plain": [
       "[np.float64(6.717328906156029),\n",
       " np.float64(1.8509455884218995),\n",
       " np.float64(1.9863794082031594),\n",
       " np.float64(1.6879687355478277),\n",
       " np.float64(1.64273880673418),\n",
       " np.float64(1.6703531826000695),\n",
       " np.float64(1.6102355562524198),\n",
       " np.float64(1.6181146193181166),\n",
       " np.float64(1.611256117320788),\n",
       " np.float64(1.6205972109852738)]"
      ]
     },
     "execution_count": 363,
     "metadata": {},
     "output_type": "execute_result"
    }
   ],
   "source": [
    "best_fit"
   ]
  },
  {
   "cell_type": "code",
   "execution_count": null,
   "metadata": {},
   "outputs": [],
   "source": []
  }
 ],
 "metadata": {
  "kernelspec": {
   "display_name": "Python 3 (ipykernel)",
   "language": "python",
   "name": "python3"
  },
  "language_info": {
   "codemirror_mode": {
    "name": "ipython",
    "version": 3
   },
   "file_extension": ".py",
   "mimetype": "text/x-python",
   "name": "python",
   "nbconvert_exporter": "python",
   "pygments_lexer": "ipython3",
   "version": "3.10.14"
  }
 },
 "nbformat": 4,
 "nbformat_minor": 4
}
