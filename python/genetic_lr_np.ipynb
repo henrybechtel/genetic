{
 "cells": [
  {
   "cell_type": "markdown",
   "metadata": {},
   "source": [
    "# Genetic Linear Regression with Numpy\n",
    "A solution... via evolution!"
   ]
  },
  {
   "cell_type": "code",
   "execution_count": 1,
   "metadata": {},
   "outputs": [],
   "source": [
    "import numpy as np\n",
    "import matplotlib.pyplot as plt"
   ]
  },
  {
   "cell_type": "code",
   "execution_count": 2,
   "metadata": {},
   "outputs": [],
   "source": [
    "sample_num = 10\n",
    "beta_true = [3, 5]\n",
    "x_obs = np.random.normal(5, 3, sample_num)\n",
    "y_obs = beta_true[0] + beta_true[1]*x_obs + np.random.normal(x_obs, 2, sample_num)"
   ]
  },
  {
   "cell_type": "code",
   "execution_count": 3,
   "metadata": {},
   "outputs": [
    {
     "data": {
      "image/png": "[encoded data removed]",
      "text/plain": [
       "<Figure size 640x480 with 1 Axes>"
      ]
     },
     "metadata": {},
     "output_type": "display_data"
    }
   ],
   "source": [
    "plt.scatter(x_obs, y_obs);"
   ]
  },
  {
   "cell_type": "code",
   "execution_count": 12,
   "metadata": {},
   "outputs": [],
   "source": [
    "def rmse_fitness(beta):\n",
    "    y_hat = beta[0] + x_obs*beta[1]\n",
    "    rmse = np.sqrt(np.mean((y_hat - y_obs)**2))\n",
    "    return rmse"
   ]
  },
  {
   "cell_type": "code",
   "execution_count": 5,
   "metadata": {},
   "outputs": [
    {
     "data": {
      "text/plain": [
       "array([-15.9001217 , -10.50927437])"
      ]
     },
     "execution_count": 5,
     "metadata": {},
     "output_type": "execute_result"
    }
   ],
   "source": [
    "beta = np.random.normal(-10,10, 2)\n",
    "beta"
   ]
  },
  {
   "cell_type": "code",
   "execution_count": 13,
   "metadata": {},
   "outputs": [
    {
     "data": {
      "text/plain": [
       "np.float64(9.96237508349645)"
      ]
     },
     "execution_count": 13,
     "metadata": {},
     "output_type": "execute_result"
    }
   ],
   "source": [
    "rmse_fitness([  18.54413807,   3.36654949])"
   ]
  },
  {
   "cell_type": "code",
   "execution_count": 14,
   "metadata": {},
   "outputs": [
    {
     "data": {
      "text/plain": [
       "array([[ 13.18255531,  -9.33972927],\n",
       "       [-27.82290296,   4.54337153],\n",
       "       [  1.67191039, -28.55610111],\n",
       "       [-15.373333  ,  12.4344489 ],\n",
       "       [ -5.97760471,   3.6446843 ],\n",
       "       [ -9.20862282,  -4.18436938],\n",
       "       [  8.31491208,   5.85232872],\n",
       "       [-14.37146795,  -7.61458371],\n",
       "       [ 11.66584995,   9.57222509],\n",
       "       [  7.38830336,  -1.78566355]])"
      ]
     },
     "execution_count": 14,
     "metadata": {},
     "output_type": "execute_result"
    }
   ],
   "source": [
    "gen_size = 10\n",
    "betas = np.random.normal(0, 10, (gen_size, 2))\n",
    "betas"
   ]
  },
  {
   "cell_type": "code",
   "execution_count": 19,
   "metadata": {},
   "outputs": [],
   "source": [
    "def rank(betas, rmse_fitness):\n",
    "    scored = np.column_stack((betas, np.apply_along_axis(rmse_fitness, axis=1, arr=betas))) \n",
    "    ranked = scored[scored[:, 2].argsort()]\n",
    "    return ranked"
   ]
  },
  {
   "cell_type": "code",
   "execution_count": 20,
   "metadata": {},
   "outputs": [
    {
     "data": {
      "text/plain": [
       "array([[  8.31491208,   5.85232872,   4.83737506],\n",
       "       [ -5.97760471,   3.6446843 ,  22.57219731],\n",
       "       [-15.373333  ,  12.4344489 ,  27.79158191],\n",
       "       [ 11.66584995,   9.57222509,  29.90660376],\n",
       "       [-27.82290296,   4.54337153,  38.52736117],\n",
       "       [  7.38830336,  -1.78566355,  45.14511196],\n",
       "       [ -9.20862282,  -4.18436938,  73.83137327],\n",
       "       [ 13.18255531,  -9.33972927,  87.83824457],\n",
       "       [-14.37146795,  -7.61458371,  99.62964771],\n",
       "       [  1.67191039, -28.55610111, 217.12778879]])"
      ]
     },
     "execution_count": 20,
     "metadata": {},
     "output_type": "execute_result"
    }
   ],
   "source": [
    "ranked = rank(betas, rmse_fitness)\n",
    "ranked"
   ]
  },
  {
   "cell_type": "code",
   "execution_count": null,
   "metadata": {},
   "outputs": [],
   "source": []
  },
  {
   "cell_type": "code",
   "execution_count": null,
   "metadata": {},
   "outputs": [],
   "source": []
  },
  {
   "cell_type": "code",
   "execution_count": 21,
   "metadata": {},
   "outputs": [],
   "source": [
    "def select(ranked, frac):\n",
    "    top_num = int(frac*ranked.shape[0])\n",
    "    survivors = ranked[:top_num]\n",
    "    return survivors"
   ]
  },
  {
   "cell_type": "code",
   "execution_count": 22,
   "metadata": {},
   "outputs": [
    {
     "data": {
      "text/plain": [
       "array([[ 8.31491208,  5.85232872,  4.83737506],\n",
       "       [-5.97760471,  3.6446843 , 22.57219731]])"
      ]
     },
     "execution_count": 22,
     "metadata": {},
     "output_type": "execute_result"
    }
   ],
   "source": [
    "survivors = select(ranked, 0.2)\n",
    "survivors"
   ]
  },
  {
   "cell_type": "code",
   "execution_count": 24,
   "metadata": {},
   "outputs": [
    {
     "data": {
      "text/plain": [
       "array([1., 0.])"
      ]
     },
     "execution_count": 24,
     "metadata": {},
     "output_type": "execute_result"
    }
   ],
   "source": [
    "sampling_weights = np.linspace(1, 0, survivors.shape[0])\n",
    "sampling_weights /= sampling_weights.sum()\n",
    "sampling_weights"
   ]
  },
  {
   "cell_type": "code",
   "execution_count": null,
   "metadata": {},
   "outputs": [],
   "source": []
  },
  {
   "cell_type": "code",
   "execution_count": null,
   "metadata": {},
   "outputs": [],
   "source": []
  },
  {
   "cell_type": "code",
   "execution_count": null,
   "metadata": {},
   "outputs": [],
   "source": []
  },
  {
   "cell_type": "code",
   "execution_count": 173,
   "metadata": {},
   "outputs": [
    {
     "data": {
      "text/plain": [
       "array([-3.65833812,  4.59164743, -4.32214465,  1.15297178, -3.40671887])"
      ]
     },
     "execution_count": 173,
     "metadata": {},
     "output_type": "execute_result"
    }
   ],
   "source": [
    "np.random.normal(survivors[0,0], 3, 5)"
   ]
  },
  {
   "cell_type": "code",
   "execution_count": 25,
   "metadata": {},
   "outputs": [],
   "source": [
    "def mate(survivors, gen_size):    \n",
    "    rank_weighting = np.linspace(1, 0, survivors.shape[0])\n",
    "    rank_weighting /= rank_weighting.sum()\n",
    "\n",
    "    sampled_b0 = np.random.choice(survivors[:,0], size=gen_size, replace=True, p=rank_weighting)\n",
    "    sampled_b1 = np.random.choice(survivors[:,1], size=gen_size, replace=True, p=rank_weighting)\n",
    "    sampled_betas = np.column_stack((sampled_b0, sampled_b1))\n",
    "\n",
    "    # mutation\n",
    "    mutation = np.random.normal(0, 1, (gen_size, 2))\n",
    "    \n",
    "    # next generation\n",
    "    new_betas = sampled_betas + mutation\n",
    "\n",
    "    return new_betas"
   ]
  },
  {
   "cell_type": "code",
   "execution_count": 35,
   "metadata": {},
   "outputs": [
    {
     "name": "stdout",
     "output_type": "stream",
     "text": [
      "Generation: 0\n",
      "survivors:\n",
      " [[-0.29460078  0.9641859  34.14488724]\n",
      " [ 0.85018603  0.80006513 34.21366985]\n",
      " [ 0.8314715   0.79700162 34.24832305]\n",
      " [-0.3867321   0.93355233 34.41343941]\n",
      " [ 0.82263704  0.74554807 34.57697628]\n",
      " [-0.13571669  0.82627887 34.8720418 ]\n",
      " [ 0.16516909  0.78469581 34.87980945]\n",
      " [-0.76791778  0.86997937 35.13104205]\n",
      " [ 0.3165493   0.72230807 35.14293747]\n",
      " [ 0.52062865  0.67563987 35.26436631]\n",
      " [-0.05762104  0.75003569 35.28244764]\n",
      " [-0.10239177  0.71060689 35.56601141]\n",
      " [ 0.14081716  0.67508835 35.58435112]\n",
      " [ 0.45650918  0.60830998 35.73812504]\n",
      " [ 0.55971377  0.57405038 35.8662367 ]\n",
      " [ 0.85486797  0.52019832 35.95768417]\n",
      " [-0.71553262  0.72589031 35.98559806]\n",
      " [ 0.223436    0.58172234 36.0982799 ]\n",
      " [ 0.72236001  0.51523422 36.09851659]\n",
      " [-0.09140706  0.6075738  36.19989351]]\n",
      "next betas: \n",
      " [[-1.73167004  1.32012238]\n",
      " [-1.10128081  1.41480438]\n",
      " [ 0.57553829  0.08751274]\n",
      " [-0.6060618   2.14420019]\n",
      " [ 2.08649452  0.83188135]\n",
      " [-0.00908599 -1.20392221]\n",
      " [ 0.46748413  1.55585174]\n",
      " [ 0.99028976  0.36793355]\n",
      " [ 0.19608479  0.63651645]\n",
      " [ 0.37150718 -0.81007887]]\n",
      "\n",
      "\n",
      "Generation: 1\n",
      "survivors:\n",
      " [[ 0.97196474  2.60990045 22.81835868]\n",
      " [ 0.82892273  2.34391991 24.59636252]\n",
      " [ 0.16434605  2.26035051 25.67621524]\n",
      " [ 2.28385689  1.93279214 25.95834806]\n",
      " [ 1.55445171  1.93593395 26.53830843]\n",
      " [-0.6060618   2.14420019 27.05311908]\n",
      " [ 3.55921301  1.503618   27.60716028]\n",
      " [-0.15934565  1.9356012  27.97342776]\n",
      " [ 0.46748413  1.55585174 29.8144392 ]\n",
      " [-0.10156979  1.50017526 30.63925977]\n",
      " [ 1.13921422  1.31075896 30.78506439]\n",
      " [ 1.16212996  1.29173036 30.88489763]\n",
      " [ 3.43738596  0.98224393 30.96223825]\n",
      " [-0.30142587  1.45189017 31.10873966]\n",
      " [-1.00280375  1.53651419 31.17524278]\n",
      " [-0.47651671  1.46293428 31.18768267]\n",
      " [-0.31308596  1.43501945 31.22376833]\n",
      " [ 0.03730795  1.33644176 31.54378982]\n",
      " [ 1.66066359  1.09431155 31.70641391]\n",
      " [-0.81100845  1.41972239 31.74012107]]\n",
      "next betas: \n",
      " [[ 0.96058175  0.70964754]\n",
      " [ 2.68103053  0.98384779]\n",
      " [-1.43318941  2.6930921 ]\n",
      " [ 1.57713485  2.48393922]\n",
      " [ 1.06377502  0.86405321]\n",
      " [ 0.60672076  2.95219427]\n",
      " [-0.51618668  2.56128705]\n",
      " [-0.74490962  3.73866126]\n",
      " [ 3.07507486  1.65673987]\n",
      " [-1.11230712  1.86798029]]\n",
      "\n",
      "\n",
      "Generation: 2\n",
      "survivors:\n",
      " [[-4.37526248e-02  4.33073896e+00  1.30084151e+01]\n",
      " [-6.83801281e-01  4.26055384e+00  1.40053215e+01]\n",
      " [ 2.09420477e-02  3.82357120e+00  1.60828072e+01]\n",
      " [-3.41460495e-01  3.75955863e+00  1.67936432e+01]\n",
      " [-1.47493993e+00  3.88612597e+00  1.70097693e+01]\n",
      " [-7.44909616e-01  3.73866126e+00  1.72751051e+01]\n",
      " [ 1.08641480e+00  3.38523986e+00  1.78933919e+01]\n",
      " [-1.95905257e-01  3.37116871e+00  1.90740431e+01]\n",
      " [ 7.43770044e-01  3.09959374e+00  1.99600433e+01]\n",
      " [ 1.26913780e+00  3.00249046e+00  2.01230251e+01]\n",
      " [-3.91722416e-01  3.21871361e+00  2.01888579e+01]\n",
      " [ 3.75579676e+00  2.66661997e+00  2.01892392e+01]\n",
      " [ 1.17070766e+00  2.89305415e+00  2.08872545e+01]\n",
      " [ 6.06720755e-01  2.95219427e+00  2.09933638e+01]\n",
      " [ 3.71257974e+00  2.49327078e+00  2.13052524e+01]\n",
      " [ 3.79400105e-01  2.82586443e+00  2.19721578e+01]\n",
      " [-1.70359942e-01  2.88870181e+00  2.20490379e+01]\n",
      " [ 1.37502497e+00  2.60079905e+00  2.25386079e+01]\n",
      " [ 1.68317565e-01  2.75046928e+00  2.26204799e+01]\n",
      " [ 1.13908792e+00  2.60796090e+00  2.26906591e+01]]\n",
      "next betas: \n",
      " [[ 0.88031679  1.74489894]\n",
      " [ 1.80415877  3.62599754]\n",
      " [-0.17512387  5.04103242]\n",
      " [ 1.25547759  2.70251041]\n",
      " [ 0.78510498  3.11032121]\n",
      " [-1.8360224   4.60288912]\n",
      " [ 0.295514    3.35057371]\n",
      " [ 4.14476966  4.6020618 ]\n",
      " [-1.53237712  5.00842875]\n",
      " [ 0.36460986  3.47152719]]\n",
      "\n",
      "\n",
      "Generation: 3\n",
      "survivors:\n",
      " [[-1.64426420e+00  5.84682361e+00  5.58010837e+00]\n",
      " [ 2.29866216e+00  5.10505847e+00  6.24223873e+00]\n",
      " [ 2.01414429e+00  5.05287989e+00  6.79766684e+00]\n",
      " [-1.45673594e+00  5.49107049e+00  7.34318090e+00]\n",
      " [ 4.14476966e+00  4.60206180e+00  7.86695650e+00]\n",
      " [-1.75123874e-01  5.04103242e+00  8.79455858e+00]\n",
      " [ 1.64917214e+00  4.73760478e+00  9.03724199e+00]\n",
      " [ 7.08225739e-01  4.85088425e+00  9.15768633e+00]\n",
      " [ 6.11583573e-01  4.82338481e+00  9.41062806e+00]\n",
      " [-1.53237712e+00  5.00842875e+00  1.02365922e+01]\n",
      " [ 2.68658423e-03  4.73561132e+00  1.04859865e+01]\n",
      " [ 2.73471806e+00  4.32931383e+00  1.06571806e+01]\n",
      " [ 1.26909601e+00  4.49461025e+00  1.08585153e+01]\n",
      " [ 8.24941481e-01  4.54598944e+00  1.09247966e+01]\n",
      " [ 2.83533877e+00  4.21555006e+00  1.12810583e+01]\n",
      " [ 2.79699950e-02  4.54761227e+00  1.16132138e+01]\n",
      " [ 5.72568194e-02  4.50330754e+00  1.18590676e+01]\n",
      " [ 3.70875534e+00  3.93428575e+00  1.23309101e+01]\n",
      " [ 2.10185394e-01  4.34944327e+00  1.26705485e+01]\n",
      " [-1.83602240e+00  4.60288912e+00  1.29550862e+01]]\n",
      "next betas: \n",
      " [[-1.76962123  6.23298194]\n",
      " [-1.71244431  6.63682072]\n",
      " [-0.86536847  4.56835179]\n",
      " [ 0.85067709  5.06619179]\n",
      " [-0.1334789   6.01155474]\n",
      " [-3.28533473  4.06728949]\n",
      " [-0.3166877   4.09344733]\n",
      " [ 0.66382289  6.07508164]\n",
      " [-3.4815267   4.28821791]\n",
      " [-1.22374626  3.2819965 ]]\n",
      "\n",
      "\n",
      "Generation: 4\n",
      "survivors:\n",
      " [[ 3.04457388  5.9147347   1.46852375]\n",
      " [ 2.89145931  5.87601664  1.61108215]\n",
      " [ 3.33618622  6.1105689   1.77560592]\n",
      " [ 1.35530502  6.02192776  2.06877208]\n",
      " [ 0.66382289  6.07508164  2.41737958]\n",
      " [ 4.68283115  5.48601661  2.4300799 ]\n",
      " [ 2.19698771  6.3972498   2.46385476]\n",
      " [ 1.28706404  6.50356525  2.58575347]\n",
      " [ 2.41902403  5.70465429  2.6591217 ]\n",
      " [ 2.88334693  5.5887547   2.93030265]\n",
      " [ 1.21389421  6.62899406  3.165951  ]\n",
      " [-1.71244431  6.63682072  3.20179302]\n",
      " [ 2.56789201  5.57195352  3.26334542]\n",
      " [-0.83552211  6.18783845  3.2840577 ]\n",
      " [-0.1334789   6.01155474  3.35441897]\n",
      " [-1.04849137  6.18563472  3.47834967]\n",
      " [ 3.14238238  6.4730926   3.47876982]\n",
      " [-0.40093218  5.99229732  3.68535286]\n",
      " [ 0.57118421  5.78469072  3.81402255]\n",
      " [-1.76962123  6.23298194  3.95060297]]\n",
      "next betas: \n",
      " [[ 5.22615888  5.98539989]\n",
      " [ 2.89137807  5.1343747 ]\n",
      " [ 4.23831509  5.95684837]\n",
      " [ 4.09118341  5.99947654]\n",
      " [ 0.84973994  5.80846487]\n",
      " [-0.8351716   7.30579751]\n",
      " [ 1.01639969  4.75161937]\n",
      " [ 1.08082988  5.32383404]\n",
      " [ 2.20717577  8.07017338]\n",
      " [ 3.32638156  7.6569188 ]]\n",
      "\n",
      "\n",
      "Generation: 5\n",
      "survivors:\n",
      " [[2.54195841 5.98701058 1.49705024]\n",
      " [3.97825908 5.90411213 1.52795517]\n",
      " [2.54884913 5.94049631 1.58674715]\n",
      " [2.51202459 5.90823907 1.69692197]\n",
      " [4.23831509 5.95684837 1.76646676]\n",
      " [4.09118341 5.99947654 1.81196715]\n",
      " [2.62186772 5.77327126 2.17079492]\n",
      " [1.03723322 6.45539466 2.32369011]\n",
      " [2.49398882 6.34659518 2.36952324]\n",
      " [4.4295572  6.11390928 2.54348123]\n",
      " [2.36628539 6.39636117 2.54881012]\n",
      " [5.22615888 5.98539989 2.60802063]\n",
      " [0.29184738 6.10051607 2.63096139]\n",
      " [0.85243774 6.5494774  2.66006509]\n",
      " [3.72721452 6.2462648  2.66518067]\n",
      " [3.02764864 5.60816875 2.72140602]\n",
      " [4.48711368 6.16666051 2.85447302]\n",
      " [2.65400231 5.63175689 2.86746414]\n",
      " [1.37047214 5.82166625 2.91467711]\n",
      " [2.86149941 5.59204507 2.92840708]]\n",
      "next betas: \n",
      " [[2.4227677  4.97426787]\n",
      " [0.54997467 7.01187493]\n",
      " [5.68915005 5.32733725]\n",
      " [2.68248676 6.05553354]\n",
      " [4.95180771 6.50440841]\n",
      " [3.32604394 6.74336576]\n",
      " [3.34827819 7.30845034]\n",
      " [1.24515076 3.14490614]\n",
      " [3.60938414 7.96392016]\n",
      " [3.13260853 6.4235811 ]]\n",
      "\n",
      "\n",
      "Generation: 6\n",
      "survivors:\n",
      " [[2.68248676 6.05553354 1.45190399]\n",
      " [2.25033699 6.0438388  1.52377375]\n",
      " [3.72331208 5.98332296 1.56894347]\n",
      " [3.92685932 5.75317739 1.64214921]\n",
      " [4.07291531 5.96624397 1.6980842 ]\n",
      " [2.65679493 5.85108815 1.81598045]\n",
      " [1.21284393 6.16798977 1.83452532]\n",
      " [5.11656745 5.75305752 1.85501545]\n",
      " [4.39664696 5.63372922 1.91757155]\n",
      " [1.28649669 6.08762017 1.92890152]\n",
      " [3.5650772  6.12416355 1.96270905]\n",
      " [1.31748692 6.04907332 2.01093825]\n",
      " [4.49411133 5.5982798  2.02228242]\n",
      " [5.63843518 5.66704761 2.05122918]\n",
      " [0.74551556 6.3692033  2.08214695]\n",
      " [2.30377981 6.30980544 2.10449085]\n",
      " [4.77260171 5.52960503 2.21690553]\n",
      " [3.39053557 5.64923477 2.27407005]\n",
      " [6.12669004 5.63347492 2.2873719 ]\n",
      " [4.51082359 6.0991932  2.53800009]]\n",
      "next betas: \n",
      " [[0.79548543 6.31956306]\n",
      " [4.66546074 5.76398566]\n",
      " [1.5656603  5.49223694]\n",
      " [2.19096256 7.83003502]\n",
      " [6.29726951 4.83511362]\n",
      " [2.07743674 6.14467815]\n",
      " [4.35720732 6.69096563]\n",
      " [1.52822936 8.40768685]\n",
      " [1.76584369 6.47842336]\n",
      " [2.07486699 4.71855717]]\n",
      "\n",
      "\n",
      "Generation: 7\n",
      "survivors:\n",
      " [[2.52419846 6.06105806 1.46241835]\n",
      " [2.70996224 6.06675957 1.46433982]\n",
      " [2.07743674 6.14467815 1.5674605 ]\n",
      " [4.66546074 5.76398566 1.67857224]\n",
      " [2.8735715  5.85439541 1.68769629]\n",
      " [5.01963382 5.73363685 1.8008678 ]\n",
      " [4.70473675 5.6593059  1.81173348]\n",
      " [3.97761142 5.66579576 1.91841779]\n",
      " [0.79548543 6.31956306 2.0013846 ]\n",
      " [0.90095282 6.36745546 2.05778664]\n",
      " [3.864299   5.63788519 2.07988128]\n",
      " [3.22649176 6.19960233 2.08818482]\n",
      " [0.51555696 6.35080049 2.11411392]\n",
      " [4.26765648 6.0571868  2.15733166]\n",
      " [4.66203743 6.02556644 2.32222557]\n",
      " [2.75810298 6.30822868 2.32862429]\n",
      " [5.41449695 5.43252091 2.45951112]\n",
      " [4.72869214 5.4636348  2.51534148]\n",
      " [2.51289588 6.37439963 2.51938641]\n",
      " [3.33067664 5.60449324 2.53661408]]\n",
      "next betas: \n",
      " [[ 2.56889106  6.68945869]\n",
      " [ 3.3046759   5.76981101]\n",
      " [-0.09038179  6.22668448]\n",
      " [ 4.89454535  4.73319986]\n",
      " [ 1.85151419  5.13370836]\n",
      " [ 1.64676832  5.75357355]\n",
      " [ 3.05073302  7.33358071]\n",
      " [ 4.17411118  6.20479863]\n",
      " [ 4.29285994  4.98440322]\n",
      " [ 3.61226411  6.95740036]]\n",
      "\n",
      "\n",
      "Generation: 8\n",
      "survivors:\n",
      " [[ 3.47264137  5.92819993  1.42857114]\n",
      " [ 2.34381442  6.00375138  1.54199134]\n",
      " [ 3.3046759   5.76981101  1.78798383]\n",
      " [ 2.88149728  6.17488445  1.79909195]\n",
      " [ 2.50849879  5.87819279  1.80196139]\n",
      " [ 0.93888545  6.16918018  1.98156416]\n",
      " [ 1.76504124  5.96178592  1.98288958]\n",
      " [ 0.57090267  6.23356643  2.10736029]\n",
      " [ 2.9405109   5.74162145  2.10850426]\n",
      " [ 2.08822659  6.34256867  2.15914105]\n",
      " [ 3.32981886  5.65229922  2.29535094]\n",
      " [ 2.7853812   5.72307758  2.29909578]\n",
      " [ 3.60152121  6.24072199  2.54312194]\n",
      " [ 3.56433036  6.24636125  2.54515876]\n",
      " [-0.09038179  6.22668448  2.56175688]\n",
      " [ 1.46532636  5.85697792  2.66198884]\n",
      " [ 3.31081248  5.58273329  2.6636116 ]\n",
      " [ 1.53255427  5.83562713  2.70883015]\n",
      " [ 1.64673779  5.81093998  2.73521668]\n",
      " [ 4.17411118  6.20479863  2.796559  ]]\n",
      "next betas: \n",
      " [[1.22072664 6.5360337 ]\n",
      " [3.39759349 5.24918427]\n",
      " [0.74256607 6.20873168]\n",
      " [3.47154781 5.9550955 ]\n",
      " [1.38546505 6.28371341]\n",
      " [1.97819123 4.09225054]\n",
      " [2.73271071 6.28745322]\n",
      " [4.97205574 5.35336156]\n",
      " [1.99410042 6.10987621]\n",
      " [0.82927196 5.67537781]]\n",
      "\n",
      "\n",
      "Generation: 9\n",
      "survivors:\n",
      " [[3.02434224 5.95994289 1.42107109]\n",
      " [3.59994468 5.90827389 1.44063828]\n",
      " [3.47154781 5.9550955  1.44251653]\n",
      " [1.99410042 6.10987621 1.56561414]\n",
      " [1.75892284 6.18204881 1.64756197]\n",
      " [2.51948913 5.90761112 1.69490868]\n",
      " [3.63897829 6.04600227 1.7066649 ]\n",
      " [3.95836889 6.00037408 1.7353693 ]\n",
      " [1.38546505 6.28371341 1.84205554]\n",
      " [2.81405369 6.21499545 1.92921243]\n",
      " [2.21508323 6.28520668 1.96627709]\n",
      " [1.56797718 6.33201766 1.97534834]\n",
      " [1.12956221 6.35076717 2.0043523 ]\n",
      " [0.74256607 6.20873168 2.03926123]\n",
      " [1.48608295 5.97649382 2.13165619]\n",
      " [2.73271071 6.28745322 2.21341968]\n",
      " [0.38331318 6.23614266 2.21660418]\n",
      " [1.12470082 6.42251282 2.21885135]\n",
      " [0.95940247 6.05660764 2.24902437]\n",
      " [1.50538944 6.41343572 2.26324127]]\n",
      "next betas: \n",
      " [[2.29699824 4.50352372]\n",
      " [1.30970256 5.2314167 ]\n",
      " [1.45285399 5.71318774]\n",
      " [2.94082622 5.67125933]\n",
      " [1.98922081 7.77405698]\n",
      " [2.33312967 5.04969658]\n",
      " [2.94034668 5.62725025]\n",
      " [3.00223347 4.33419007]\n",
      " [1.93597021 3.51446289]\n",
      " [1.57934033 7.01369528]]\n",
      "\n",
      "\n"
     ]
    }
   ],
   "source": [
    "gen_size = 100\n",
    "betas = np.random.uniform(-1, 1, (gen_size, 2))\n",
    "best_fit = []\n",
    "verbose = True\n",
    "for gen in range(10):\n",
    "    if verbose:\n",
    "        print(f\"Generation: {gen}\")\n",
    "    \n",
    "    # ranking\n",
    "    ranked = rank(betas, get_fitness)\n",
    "    best_fit.append(ranked[0][2])\n",
    "    \n",
    "    # selection\n",
    "    survivors = select(ranked, 0.2)\n",
    "    \n",
    "    if verbose:\n",
    "        print(f\"survivors:\\n {survivors}\")\n",
    "    \n",
    "    # crossover and mutation -> next generation\n",
    "    betas = mate(survivors, gen_size)\n",
    "\n",
    "    if verbose:\n",
    "        print(f\"next betas: \\n {betas[:10]}\")\n",
    "        print('\\n')\n",
    "\n",
    "# print(betas[:10])\n"
   ]
  },
  {
   "cell_type": "code",
   "execution_count": 36,
   "metadata": {},
   "outputs": [
    {
     "data": {
      "text/plain": [
       "[np.float64(34.144887241462804),\n",
       " np.float64(22.818358679617138),\n",
       " np.float64(13.00841513311719),\n",
       " np.float64(5.580108370060595),\n",
       " np.float64(1.4685237539056335),\n",
       " np.float64(1.497050241453628),\n",
       " np.float64(1.4519039867919323),\n",
       " np.float64(1.4624183455424475),\n",
       " np.float64(1.4285711359873525),\n",
       " np.float64(1.4210710942016076)]"
      ]
     },
     "execution_count": 36,
     "metadata": {},
     "output_type": "execute_result"
    }
   ],
   "source": [
    "best_fit"
   ]
  },
  {
   "cell_type": "code",
   "execution_count": null,
   "metadata": {},
   "outputs": [],
   "source": []
  }
 ],
 "metadata": {
  "kernelspec": {
   "display_name": "Python 3 (ipykernel)",
   "language": "python",
   "name": "python3"
  },
  "language_info": {
   "codemirror_mode": {
    "name": "ipython",
    "version": 3
   },
   "file_extension": ".py",
   "mimetype": "text/x-python",
   "name": "python",
   "nbconvert_exporter": "python",
   "pygments_lexer": "ipython3",
   "version": "3.10.14"
  }
 },
 "nbformat": 4,
 "nbformat_minor": 4
}
