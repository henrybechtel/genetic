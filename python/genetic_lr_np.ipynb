{
 "cells": [
  {
   "cell_type": "markdown",
   "metadata": {},
   "source": [
    "# Genetic Linear Regression with Numpy\n",
    "A solution... via evolution!"
   ]
  },
  {
   "cell_type": "code",
   "execution_count": 1,
   "metadata": {},
   "outputs": [],
   "source": [
    "import numpy as np\n",
    "import matplotlib.pyplot as plt"
   ]
  },
  {
   "cell_type": "code",
   "execution_count": 2,
   "metadata": {},
   "outputs": [],
   "source": [
    "sample_num = 10\n",
    "beta_true = [3, 5]\n",
    "x_obs = np.random.normal(5, 3, sample_num)\n",
    "y_obs = beta_true[0] + beta_true[1]*x_obs + np.random.normal(x_obs, 2, sample_num)"
   ]
  },
  {
   "cell_type": "code",
   "execution_count": 3,
   "metadata": {},
   "outputs": [
    {
     "data": {
      "image/png": "[encoded data removed]",
      "text/plain": [
       "<Figure size 640x480 with 1 Axes>"
      ]
     },
     "metadata": {},
     "output_type": "display_data"
    }
   ],
   "source": [
    "plt.scatter(x_obs, y_obs);"
   ]
  },
  {
   "cell_type": "code",
   "execution_count": 4,
   "metadata": {},
   "outputs": [],
   "source": [
    "def rmse_fitness(beta):\n",
    "    y_hat = beta[0] + x_obs*beta[1]\n",
    "    rmse = np.sqrt(np.mean((y_hat - y_obs)**2))\n",
    "    return rmse"
   ]
  },
  {
   "cell_type": "code",
   "execution_count": 5,
   "metadata": {},
   "outputs": [],
   "source": [
    "def rank(betas, rmse_fitness):\n",
    "    scored = np.column_stack((betas, np.apply_along_axis(rmse_fitness, axis=1, arr=betas))) \n",
    "    ranked = scored[scored[:, 2].argsort()]\n",
    "    return ranked"
   ]
  },
  {
   "cell_type": "code",
   "execution_count": 17,
   "metadata": {},
   "outputs": [],
   "source": [
    "def select(ranked, frac):\n",
    "    top_num = int(frac*ranked.shape[0])\n",
    "    survivors = ranked[:top_num]\n",
    "    return survivors"
   ]
  },
  {
   "cell_type": "code",
   "execution_count": 18,
   "metadata": {},
   "outputs": [],
   "source": [
    "def mate(survivors, gen_size):    \n",
    "    rank_weighting = np.linspace(1, 0, survivors.shape[0])\n",
    "    rank_weighting /= rank_weighting.sum()\n",
    "\n",
    "    sampled_b0 = np.random.choice(survivors[:,0], size=gen_size, replace=True, p=rank_weighting)\n",
    "    sampled_b1 = np.random.choice(survivors[:,1], size=gen_size, replace=True, p=rank_weighting)\n",
    "    sampled_betas = np.column_stack((sampled_b0, sampled_b1))\n",
    "\n",
    "    # mutation\n",
    "    mutation = np.random.normal(0, 1, (gen_size, 2))\n",
    "    \n",
    "    # next generation\n",
    "    new_betas = sampled_betas + mutation\n",
    "\n",
    "    return new_betas"
   ]
  },
  {
   "cell_type": "code",
   "execution_count": 19,
   "metadata": {},
   "outputs": [
    {
     "data": {
      "text/plain": [
       "array([-22.04773766,  -5.66036649])"
      ]
     },
     "execution_count": 19,
     "metadata": {},
     "output_type": "execute_result"
    }
   ],
   "source": [
    "beta = np.random.normal(-10,10, 2)\n",
    "beta"
   ]
  },
  {
   "cell_type": "code",
   "execution_count": 20,
   "metadata": {},
   "outputs": [
    {
     "data": {
      "text/plain": [
       "np.float64(7.674538929072409)"
      ]
     },
     "execution_count": 20,
     "metadata": {},
     "output_type": "execute_result"
    }
   ],
   "source": [
    "rmse_fitness([  18.54413807,   3.36654949])"
   ]
  },
  {
   "cell_type": "code",
   "execution_count": 21,
   "metadata": {},
   "outputs": [
    {
     "data": {
      "text/plain": [
       "array([[  4.04644903,  28.43581195],\n",
       "       [-18.35486918,  -7.79153169],\n",
       "       [ -1.65683345,  -1.33773405],\n",
       "       [-12.96676106, -17.30212242],\n",
       "       [ -0.40594771,   5.94139415],\n",
       "       [ -9.06547774, -17.01969421],\n",
       "       [ 12.46489636,  27.47152655],\n",
       "       [ -5.65221945,   5.80705849],\n",
       "       [ -2.98753429,   4.69744079],\n",
       "       [ 27.20034385,  12.88164201]])"
      ]
     },
     "execution_count": 21,
     "metadata": {},
     "output_type": "execute_result"
    }
   ],
   "source": [
    "gen_size = 10\n",
    "betas = np.random.normal(0, 10, (gen_size, 2))\n",
    "betas"
   ]
  },
  {
   "cell_type": "code",
   "execution_count": 22,
   "metadata": {},
   "outputs": [
    {
     "data": {
      "text/plain": [
       "array([[ -0.40594771,   5.94139415,   3.84278037],\n",
       "       [ -5.65221945,   5.80705849,   9.54116547],\n",
       "       [ -2.98753429,   4.69744079,  12.73601249],\n",
       "       [ -1.65683345,  -1.33773405,  44.73926706],\n",
       "       [ 27.20034385,  12.88164201,  60.8187778 ],\n",
       "       [-18.35486918,  -7.79153169,  95.73154868],\n",
       "       [  4.04644903,  28.43581195, 125.60333681],\n",
       "       [ 12.46489636,  27.47152655, 127.75586225],\n",
       "       [ -9.06547774, -17.01969421, 138.34177834],\n",
       "       [-12.96676106, -17.30212242, 143.42783712]])"
      ]
     },
     "execution_count": 22,
     "metadata": {},
     "output_type": "execute_result"
    }
   ],
   "source": [
    "ranked = rank(betas, rmse_fitness)\n",
    "ranked"
   ]
  },
  {
   "cell_type": "code",
   "execution_count": 23,
   "metadata": {},
   "outputs": [
    {
     "data": {
      "text/plain": [
       "array([[-0.40594771,  5.94139415,  3.84278037],\n",
       "       [-5.65221945,  5.80705849,  9.54116547]])"
      ]
     },
     "execution_count": 23,
     "metadata": {},
     "output_type": "execute_result"
    }
   ],
   "source": [
    "survivors = select(ranked, 0.2)\n",
    "survivors"
   ]
  },
  {
   "cell_type": "code",
   "execution_count": 24,
   "metadata": {},
   "outputs": [
    {
     "data": {
      "text/plain": [
       "array([1., 0.])"
      ]
     },
     "execution_count": 24,
     "metadata": {},
     "output_type": "execute_result"
    }
   ],
   "source": [
    "sampling_weights = np.linspace(1, 0, survivors.shape[0])\n",
    "sampling_weights /= sampling_weights.sum()\n",
    "sampling_weights"
   ]
  },
  {
   "cell_type": "code",
   "execution_count": 25,
   "metadata": {},
   "outputs": [
    {
     "data": {
      "text/plain": [
       "array([-1.22281496, -1.12143015, -1.65726228, -3.55078218, -1.09878324])"
      ]
     },
     "execution_count": 25,
     "metadata": {},
     "output_type": "execute_result"
    }
   ],
   "source": [
    "np.random.normal(survivors[0,0], 3, 5)"
   ]
  },
  {
   "cell_type": "code",
   "execution_count": 29,
   "metadata": {},
   "outputs": [
    {
     "name": "stdout",
     "output_type": "stream",
     "text": [
      "Generation: 0\n",
      "survivors:\n",
      " [[ 0.25125653  0.99916818 30.07742296]\n",
      " [ 0.61086061  0.88430752 30.39105703]\n",
      " [-0.67636855  0.97670177 31.03749747]\n",
      " [-0.30756774  0.90335205 31.11068683]\n",
      " [ 0.71522543  0.71082699 31.25859026]\n",
      " [ 0.33662215  0.76939494 31.27327883]\n",
      " [-0.63185733  0.88317547 31.5149451 ]\n",
      " [-0.83519294  0.88546064 31.68605117]\n",
      " [ 0.63588848  0.60558442 31.91256716]\n",
      " [ 0.1332567   0.68498134 31.92330568]\n",
      " [-0.88398087  0.84708104 31.94258565]\n",
      " [ 0.29718015  0.64039847 32.02312681]\n",
      " [-0.2859113   0.67707975 32.34398196]\n",
      " [-0.53759984  0.71504267 32.36061781]\n",
      " [ 0.50891444  0.52989473 32.44551129]\n",
      " [ 0.38305105  0.54756827 32.4603458 ]\n",
      " [-0.57702645  0.69640311 32.49937852]\n",
      " [-0.10082946  0.59322991 32.6417815 ]\n",
      " [ 0.5106163   0.48337305 32.70170946]\n",
      " [ 0.91359773  0.41052705 32.74507506]]\n",
      "next betas: \n",
      " [[ 1.90763409  0.22840383]\n",
      " [-0.41036889  0.98211594]\n",
      " [ 1.34603168  1.69257338]\n",
      " [-0.68007047  1.4587364 ]\n",
      " [ 0.48943111  0.90165344]\n",
      " [ 0.02467175  1.53759483]\n",
      " [ 0.09040338  2.05332268]\n",
      " [-1.99149428  1.16101525]\n",
      " [ 0.85093177  0.77046794]\n",
      " [-0.82246058  1.28721926]]\n",
      "\n",
      "\n",
      "Generation: 1\n",
      "survivors:\n",
      " [[ 3.73495250e-01  3.31914090e+00  1.71409736e+01]\n",
      " [-2.07527308e-01  3.33092720e+00  1.76043886e+01]\n",
      " [-5.57107577e-03  3.08131247e+00  1.87965851e+01]\n",
      " [ 8.23814495e-02  3.02680095e+00  1.90174523e+01]\n",
      " [ 4.73403431e-01  2.66667062e+00  2.06522202e+01]\n",
      " [ 2.92471919e+00  2.26781176e+00  2.06772492e+01]\n",
      " [ 1.27315646e+00  2.42310199e+00  2.12805954e+01]\n",
      " [ 2.33760372e+00  2.04985211e+00  2.24001239e+01]\n",
      " [-1.39177666e+00  2.52652624e+00  2.31221496e+01]\n",
      " [-8.10830874e-02  2.20762825e+00  2.36901558e+01]\n",
      " [ 5.47079354e-01  2.02015107e+00  2.41604799e+01]\n",
      " [ 9.04033814e-02  2.05332268e+00  2.43883741e+01]\n",
      " [-1.12539234e+00  2.20513247e+00  2.46526354e+01]\n",
      " [ 4.14024849e-01  1.91008792e+00  2.48890421e+01]\n",
      " [ 1.77816937e+00  1.66095155e+00  2.50486459e+01]\n",
      " [ 1.34603168e+00  1.69257338e+00  2.52581283e+01]\n",
      " [-6.10634812e-01  1.95089971e+00  2.55891100e+01]\n",
      " [-3.85772513e-01  1.90057518e+00  2.56635380e+01]\n",
      " [ 1.32373810e+00  1.59958348e+00  2.57928557e+01]\n",
      " [-6.26784755e-01  1.91601673e+00  2.57965988e+01]]\n",
      "next betas: \n",
      " [[ 2.33635759  3.55353391]\n",
      " [-1.99657458  2.31555805]\n",
      " [ 2.30055001  2.03546221]\n",
      " [-1.01278284  4.00588604]\n",
      " [ 0.92964448  2.16352778]\n",
      " [-0.77351598  2.0249746 ]\n",
      " [ 1.9723738   2.32212557]\n",
      " [ 0.1345272   2.75287003]\n",
      " [ 1.19671762  2.23673175]\n",
      " [-0.39398341  2.18184693]]\n",
      "\n",
      "\n",
      "Generation: 2\n",
      "survivors:\n",
      " [[ 1.08678521e+00  5.54621825e+00  4.41672912e+00]\n",
      " [ 2.66629504e+00  5.13547293e+00  5.18376387e+00]\n",
      " [ 1.94766923e+00  4.92009698e+00  6.95513421e+00]\n",
      " [ 4.31286963e-01  4.82262766e+00  8.84932197e+00]\n",
      " [ 2.26250782e+00  4.51576416e+00  8.87283181e+00]\n",
      " [ 3.98576947e+00  4.21595549e+00  9.03212725e+00]\n",
      " [ 2.40354070e+00  4.40912654e+00  9.33149735e+00]\n",
      " [ 6.42239486e-03  4.31138322e+00  1.20235656e+01]\n",
      " [ 1.14722881e-01  4.27032072e+00  1.21487574e+01]\n",
      " [-4.73435187e-01  4.35978850e+00  1.22016485e+01]\n",
      " [ 1.80310333e+00  3.97953700e+00  1.22181156e+01]\n",
      " [ 2.43383417e+00  3.64938018e+00  1.34771867e+01]\n",
      " [ 5.98650397e-02  3.99827003e+00  1.36899267e+01]\n",
      " [ 1.46062113e+00  3.74192746e+00  1.38313341e+01]\n",
      " [ 6.27611698e-01  3.87215757e+00  1.38653948e+01]\n",
      " [ 2.33635759e+00  3.55353391e+00  1.40912924e+01]\n",
      " [ 3.36942485e-01  3.87838356e+00  1.40953628e+01]\n",
      " [-1.01278284e+00  4.00588604e+00  1.46361602e+01]\n",
      " [ 1.88400514e+00  3.51961153e+00  1.46788232e+01]\n",
      " [ 1.41573324e+00  3.55660361e+00  1.48925814e+01]]\n",
      "next betas: \n",
      " [[ 2.74307301  4.1857828 ]\n",
      " [ 0.40122956  3.87779021]\n",
      " [-1.13918402  4.48227088]\n",
      " [ 1.45616647  4.31712377]\n",
      " [ 1.2123135   5.21605438]\n",
      " [ 0.61509791  5.70343933]\n",
      " [ 0.91283237  5.27658689]\n",
      " [ 0.61961792  3.68628593]\n",
      " [ 1.44121096  6.54191099]\n",
      " [ 1.87930862  4.64284171]]\n",
      "\n",
      "\n",
      "Generation: 3\n",
      "survivors:\n",
      " [[ 2.68194646  6.0178113   1.6064895 ]\n",
      " [ 3.56929926  5.86526625  1.65802611]\n",
      " [ 3.20938419  5.74387039  1.94594262]\n",
      " [ 2.91967071  6.19550387  1.99391766]\n",
      " [-0.71271847  6.42315127  2.40368157]\n",
      " [ 1.44121096  6.54191099  2.48358907]\n",
      " [ 2.65300384  5.58717473  2.91607261]\n",
      " [ 3.97575013  5.33920743  3.14974292]\n",
      " [ 1.62193799  6.67995871  3.20215941]\n",
      " [ 0.30411356  5.90187001  3.38867745]\n",
      " [ 0.61509791  5.70343933  4.05174952]\n",
      " [ 2.21092367  5.42434764  4.06538606]\n",
      " [ 1.58105153  5.48609084  4.28815019]\n",
      " [ 4.00698239  5.01560962  4.73429499]\n",
      " [ 0.41143261  5.56994252  4.90543258]\n",
      " [ 3.77795613  5.01107001  4.93449092]\n",
      " [ 1.42812309  5.3824744   4.95659014]\n",
      " [ 0.76194667  5.443271    5.23791062]\n",
      " [ 0.72906164  5.43988087  5.28538739]\n",
      " [ 1.22179704  5.33304699  5.3987097 ]]\n",
      "next betas: \n",
      " [[ 4.27202135  6.39844413]\n",
      " [ 2.22870744  6.29608822]\n",
      " [ 2.39075175  3.64049934]\n",
      " [ 0.79787951  5.01646419]\n",
      " [ 0.5934837   8.11025948]\n",
      " [ 0.88693315  5.26745997]\n",
      " [ 2.30707197  4.84196515]\n",
      " [ 2.21572922  6.29276192]\n",
      " [-0.0290116   7.10330354]\n",
      " [ 1.89231338  7.04175141]]\n",
      "\n",
      "\n",
      "Generation: 4\n",
      "survivors:\n",
      " [[2.90135142 5.94025711 1.62880163]\n",
      " [3.46779113 5.89009615 1.64534448]\n",
      " [3.46847461 5.93986983 1.66286157]\n",
      " [3.13441544 6.02304092 1.66943161]\n",
      " [2.78648791 6.12557727 1.7414912 ]\n",
      " [3.66541413 5.74853998 1.7881362 ]\n",
      " [4.15264184 5.64984706 1.90330535]\n",
      " [2.21572922 6.29276192 1.95911572]\n",
      " [2.22870744 6.29608822 1.97528416]\n",
      " [0.52720156 6.26119195 1.99216961]\n",
      " [3.23348842 6.15704118 2.04426451]\n",
      " [0.05635756 6.57648589 2.17785722]\n",
      " [1.86856713 5.88672772 2.2091088 ]\n",
      " [1.72079685 5.90778894 2.23163567]\n",
      " [4.42172694 5.98420027 2.23482853]\n",
      " [5.98776409 5.44846082 2.24319633]\n",
      " [2.91697442 5.69607787 2.26671759]\n",
      " [2.41696646 6.35052285 2.26766519]\n",
      " [1.71350834 6.47330382 2.35472543]\n",
      " [2.62612317 5.71493684 2.37456005]]\n",
      "next betas: \n",
      " [[4.23804358 4.5971791 ]\n",
      " [2.25114756 6.84068321]\n",
      " [0.62442336 4.86132334]\n",
      " [3.00301732 5.58705464]\n",
      " [6.64493311 6.01878194]\n",
      " [2.82141947 5.63878517]\n",
      " [2.33260967 4.22080731]\n",
      " [4.32941188 5.47590041]\n",
      " [3.76939744 6.69464245]\n",
      " [6.53353744 5.60285703]]\n",
      "\n",
      "\n"
     ]
    }
   ],
   "source": [
    "gen_size = 100\n",
    "betas = np.random.uniform(-1, 1, (gen_size, 2))\n",
    "best_fit = []\n",
    "verbose = True\n",
    "for gen in range(5):\n",
    "    if verbose:\n",
    "        print(f\"Generation: {gen}\")\n",
    "    \n",
    "    # ranking\n",
    "    ranked = rank(betas, rmse_fitness)\n",
    "    best_fit.append(ranked[0][2])\n",
    "    \n",
    "    # selection\n",
    "    survivors = select(ranked, 0.2)\n",
    "    \n",
    "    if verbose:\n",
    "        print(f\"survivors:\\n {survivors}\")\n",
    "    \n",
    "    # crossover and mutation -> next generation\n",
    "    betas = mate(survivors, gen_size)\n",
    "\n",
    "    if verbose:\n",
    "        print(f\"next betas: \\n {betas[:10]}\")\n",
    "        print('\\n')\n",
    "\n",
    "# print(betas[:10])\n"
   ]
  },
  {
   "cell_type": "code",
   "execution_count": 30,
   "metadata": {},
   "outputs": [
    {
     "data": {
      "text/plain": [
       "[np.float64(30.07742295708848),\n",
       " np.float64(17.140973618699075),\n",
       " np.float64(4.416729116218631),\n",
       " np.float64(1.606489501687232),\n",
       " np.float64(1.6288016267957697)]"
      ]
     },
     "execution_count": 30,
     "metadata": {},
     "output_type": "execute_result"
    }
   ],
   "source": [
    "best_fit"
   ]
  },
  {
   "cell_type": "code",
   "execution_count": null,
   "metadata": {},
   "outputs": [],
   "source": []
  }
 ],
 "metadata": {
  "kernelspec": {
   "display_name": "Python 3 (ipykernel)",
   "language": "python",
   "name": "python3"
  },
  "language_info": {
   "codemirror_mode": {
    "name": "ipython",
    "version": 3
   },
   "file_extension": ".py",
   "mimetype": "text/x-python",
   "name": "python",
   "nbconvert_exporter": "python",
   "pygments_lexer": "ipython3",
   "version": "3.10.14"
  }
 },
 "nbformat": 4,
 "nbformat_minor": 4
}
